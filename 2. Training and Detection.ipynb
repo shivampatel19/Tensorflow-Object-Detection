{
 "cells": [
  {
   "cell_type": "markdown",
   "metadata": {
    "id": "QUANWN3rpfC9"
   },
   "source": [
    "# 0. Setup Paths"
   ]
  },
  {
   "cell_type": "code",
   "execution_count": 1,
   "metadata": {
    "id": "146BB11JpfDA"
   },
   "outputs": [],
   "source": [
    "import os"
   ]
  },
  {
   "cell_type": "code",
   "execution_count": 2,
   "metadata": {
    "id": "42hJEdo_pfDB"
   },
   "outputs": [],
   "source": [
    "CUSTOM_MODEL_NAME = 'my_ssd_mobnet' \n",
    "PRETRAINED_MODEL_NAME = 'ssd_mobilenet_v2_fpnlite_320x320_coco17_tpu-8'\n",
    "PRETRAINED_MODEL_URL = 'http://download.tensorflow.org/models/object_detection/tf2/20200711/ssd_mobilenet_v2_fpnlite_320x320_coco17_tpu-8.tar.gz'\n",
    "TF_RECORD_SCRIPT_NAME = 'generate_tfrecord.py'\n",
    "LABEL_MAP_NAME = 'label_map.pbtxt'"
   ]
  },
  {
   "cell_type": "code",
   "execution_count": 3,
   "metadata": {
    "id": "hbPhYVy_pfDB"
   },
   "outputs": [],
   "source": [
    "paths = {\n",
    "    'WORKSPACE_PATH': os.path.join('Tensorflow', 'workspace'),\n",
    "    'SCRIPTS_PATH': os.path.join('Tensorflow','scripts'),\n",
    "    'APIMODEL_PATH': os.path.join('Tensorflow','models'),\n",
    "    'ANNOTATION_PATH': os.path.join('Tensorflow', 'workspace','annotations'),\n",
    "    'IMAGE_PATH': os.path.join('Tensorflow', 'workspace','images'),\n",
    "    'MODEL_PATH': os.path.join('Tensorflow', 'workspace','models'),\n",
    "    'PRETRAINED_MODEL_PATH': os.path.join('Tensorflow', 'workspace','pre-trained-models'),\n",
    "    'CHECKPOINT_PATH': os.path.join('Tensorflow', 'workspace','models',CUSTOM_MODEL_NAME), \n",
    "    'OUTPUT_PATH': os.path.join('Tensorflow', 'workspace','models',CUSTOM_MODEL_NAME, 'export'), \n",
    "    'TFJS_PATH':os.path.join('Tensorflow', 'workspace','models',CUSTOM_MODEL_NAME, 'tfjsexport'), \n",
    "    'TFLITE_PATH':os.path.join('Tensorflow', 'workspace','models',CUSTOM_MODEL_NAME, 'tfliteexport'), \n",
    "    'PROTOC_PATH':os.path.join('Tensorflow','protoc')\n",
    " }"
   ]
  },
  {
   "cell_type": "code",
   "execution_count": 4,
   "metadata": {
    "id": "LwhWZMI0pfDC"
   },
   "outputs": [],
   "source": [
    "files = {\n",
    "    'PIPELINE_CONFIG':os.path.join('Tensorflow', 'workspace','models', CUSTOM_MODEL_NAME, 'pipeline.config'),\n",
    "    'TF_RECORD_SCRIPT': os.path.join(paths['SCRIPTS_PATH'], TF_RECORD_SCRIPT_NAME), \n",
    "    'LABELMAP': os.path.join(paths['ANNOTATION_PATH'], LABEL_MAP_NAME)\n",
    "}"
   ]
  },
  {
   "cell_type": "code",
   "execution_count": 5,
   "metadata": {
    "id": "HR-TfDGrpfDC"
   },
   "outputs": [],
   "source": [
    "for path in paths.values():\n",
    "    if not os.path.exists(path):\n",
    "        if os.name == 'posix':\n",
    "            !mkdir -p {path}\n",
    "        if os.name == 'nt':\n",
    "            !mkdir {path}"
   ]
  },
  {
   "cell_type": "markdown",
   "metadata": {
    "id": "OLU-rs_ipfDE"
   },
   "source": [
    "# 1. Download TF Models Pretrained Models from Tensorflow Model Zoo and Install TFOD"
   ]
  },
  {
   "cell_type": "code",
   "execution_count": null,
   "metadata": {},
   "outputs": [],
   "source": [
    "# https://www.tensorflow.org/install/source_windows"
   ]
  },
  {
   "cell_type": "code",
   "execution_count": null,
   "metadata": {
    "id": "K-Cmz2edpfDE",
    "scrolled": true
   },
   "outputs": [],
   "source": [
    "if os.name=='nt':\n",
    "    !pip install wget\n",
    "    import wget"
   ]
  },
  {
   "cell_type": "code",
   "execution_count": null,
   "metadata": {
    "id": "iA1DIq5OpfDE"
   },
   "outputs": [],
   "source": [
    "if not os.path.exists(os.path.join(paths['APIMODEL_PATH'], 'research', 'object_detection')):\n",
    "    !git clone https://github.com/tensorflow/models {paths['APIMODEL_PATH']}"
   ]
  },
  {
   "cell_type": "code",
   "execution_count": null,
   "metadata": {
    "id": "rJjMHbnDs3Tv"
   },
   "outputs": [],
   "source": [
    "# Install Tensorflow Object Detection \n",
    "if os.name=='posix':  \n",
    "    !apt-get install protobuf-compiler\n",
    "    !cd Tensorflow/models/research && protoc object_detection/protos/*.proto --python_out=. && cp object_detection/packages/tf2/setup.py . && python -m pip install . \n",
    "    \n",
    "if os.name=='nt':\n",
    "    url=\"https://github.com/protocolbuffers/protobuf/releases/download/v3.15.6/protoc-3.15.6-win64.zip\"\n",
    "    wget.download(url)\n",
    "    !move protoc-3.15.6-win64.zip {paths['PROTOC_PATH']}\n",
    "    !cd {paths['PROTOC_PATH']} && tar -xf protoc-3.15.6-win64.zip\n",
    "    os.environ['PATH'] += os.pathsep + os.path.abspath(os.path.join(paths['PROTOC_PATH'], 'bin'))   \n",
    "    !cd Tensorflow/models/research && protoc object_detection/protos/*.proto --python_out=. && copy object_detection\\\\packages\\\\tf2\\\\setup.py setup.py && python setup.py build && python setup.py install\n",
    "    !cd Tensorflow/models/research/slim && pip install -e . "
   ]
  },
  {
   "cell_type": "code",
   "execution_count": null,
   "metadata": {
    "scrolled": true
   },
   "outputs": [],
   "source": [
    "VERIFICATION_SCRIPT = os.path.join(paths['APIMODEL_PATH'], 'research', 'object_detection', 'builders', 'model_builder_tf2_test.py')\n",
    "# Verify Installation\n",
    "!python {VERIFICATION_SCRIPT}"
   ]
  },
  {
   "cell_type": "code",
   "execution_count": null,
   "metadata": {},
   "outputs": [],
   "source": [
    "#!pip install tensorflow --upgrade"
   ]
  },
  {
   "cell_type": "code",
   "execution_count": null,
   "metadata": {},
   "outputs": [],
   "source": [
    "#!pip uninstall protobuf matplotlib -y\n",
    "#!pip install protobuf matplotlib==3.2"
   ]
  },
  {
   "cell_type": "code",
   "execution_count": 6,
   "metadata": {},
   "outputs": [],
   "source": [
    "import object_detection"
   ]
  },
  {
   "cell_type": "code",
   "execution_count": null,
   "metadata": {
    "scrolled": true
   },
   "outputs": [],
   "source": [
    "!pip list"
   ]
  },
  {
   "cell_type": "code",
   "execution_count": null,
   "metadata": {
    "colab": {
     "base_uri": "https://localhost:8080/"
    },
    "id": "csofht2npfDE",
    "outputId": "ff5471b2-bed2-43f2-959c-327a706527b6",
    "scrolled": true
   },
   "outputs": [],
   "source": [
    "if os.name =='posix':\n",
    "    !wget {PRETRAINED_MODEL_URL}\n",
    "    !mv {PRETRAINED_MODEL_NAME+'.tar.gz'} {paths['PRETRAINED_MODEL_PATH']}\n",
    "    !cd {paths['PRETRAINED_MODEL_PATH']} && tar -zxvf {PRETRAINED_MODEL_NAME+'.tar.gz'}\n",
    "if os.name == 'nt':\n",
    "    wget.download(PRETRAINED_MODEL_URL)\n",
    "    !move {PRETRAINED_MODEL_NAME+'.tar.gz'} {paths['PRETRAINED_MODEL_PATH']}\n",
    "    !cd {paths['PRETRAINED_MODEL_PATH']} && tar -zxvf {PRETRAINED_MODEL_NAME+'.tar.gz'}"
   ]
  },
  {
   "cell_type": "markdown",
   "metadata": {
    "id": "M5KJTnkfpfDC"
   },
   "source": [
    "# 2. Create Label Map"
   ]
  },
  {
   "cell_type": "code",
   "execution_count": null,
   "metadata": {
    "id": "p1BVDWo7pfDC"
   },
   "outputs": [],
   "source": [
    "labels = [{'name':'One', 'id':1}, {'name':'Two', 'id':2}, {'name':'Three', 'id':3}, {'name':'Four', 'id':4}]\n",
    "\n",
    "with open(files['LABELMAP'], 'w') as f:\n",
    "    for label in labels:\n",
    "        f.write('item { \\n')\n",
    "        f.write('\\tname:\\'{}\\'\\n'.format(label['name']))\n",
    "        f.write('\\tid:{}\\n'.format(label['id']))\n",
    "        f.write('}\\n')"
   ]
  },
  {
   "cell_type": "markdown",
   "metadata": {
    "id": "C88zyVELpfDC"
   },
   "source": [
    "# 3. Create TF records"
   ]
  },
  {
   "cell_type": "code",
   "execution_count": null,
   "metadata": {
    "colab": {
     "base_uri": "https://localhost:8080/"
    },
    "id": "kvf5WccwrFGq",
    "outputId": "49902aeb-0bd7-4298-e1a0-5b4a64eb2064"
   },
   "outputs": [],
   "source": [
    "# OPTIONAL IF RUNNING ON COLAB\n",
    "ARCHIVE_FILES = os.path.join(paths['IMAGE_PATH'], 'archive.tar.gz')\n",
    "if os.path.exists(ARCHIVE_FILES):\n",
    "  !tar -zxvf {ARCHIVE_FILES}"
   ]
  },
  {
   "cell_type": "code",
   "execution_count": null,
   "metadata": {
    "colab": {
     "base_uri": "https://localhost:8080/"
    },
    "id": "KWpb_BVUpfDD",
    "outputId": "56ce2a3f-3933-4ee6-8a9d-d5ec65f7d73c"
   },
   "outputs": [],
   "source": [
    "if not os.path.exists(files['TF_RECORD_SCRIPT']):\n",
    "    !git clone https://github.com/nicknochnack/GenerateTFRecord {paths['SCRIPTS_PATH']}"
   ]
  },
  {
   "cell_type": "code",
   "execution_count": null,
   "metadata": {
    "colab": {
     "base_uri": "https://localhost:8080/"
    },
    "id": "UPFToGZqpfDD",
    "outputId": "0ebb456f-aadc-4a1f-96e6-fbfec1923e1c"
   },
   "outputs": [],
   "source": [
    "!python {files['TF_RECORD_SCRIPT']} -x {os.path.join(paths['IMAGE_PATH'], 'train')} -l {files['LABELMAP']} -o {os.path.join(paths['ANNOTATION_PATH'], 'train.record')} \n",
    "!python {files['TF_RECORD_SCRIPT']} -x {os.path.join(paths['IMAGE_PATH'], 'test')} -l {files['LABELMAP']} -o {os.path.join(paths['ANNOTATION_PATH'], 'test.record')} "
   ]
  },
  {
   "cell_type": "markdown",
   "metadata": {
    "id": "qT4QU7pLpfDE"
   },
   "source": [
    "# 4. Copy Model Config to Training Folder"
   ]
  },
  {
   "cell_type": "code",
   "execution_count": null,
   "metadata": {
    "id": "cOjuTFbwpfDF"
   },
   "outputs": [],
   "source": [
    "if os.name =='posix':\n",
    "    !cp {os.path.join(paths['PRETRAINED_MODEL_PATH'], PRETRAINED_MODEL_NAME, 'pipeline.config')} {os.path.join(paths['CHECKPOINT_PATH'])}\n",
    "if os.name == 'nt':\n",
    "    !copy {os.path.join(paths['PRETRAINED_MODEL_PATH'], PRETRAINED_MODEL_NAME, 'pipeline.config')} {os.path.join(paths['CHECKPOINT_PATH'])}"
   ]
  },
  {
   "cell_type": "markdown",
   "metadata": {
    "id": "Ga8gpNslpfDF"
   },
   "source": [
    "# 5. Update Config For Transfer Learning"
   ]
  },
  {
   "cell_type": "code",
   "execution_count": 7,
   "metadata": {
    "id": "Z9hRrO_ppfDF"
   },
   "outputs": [],
   "source": [
    "import tensorflow as tf\n",
    "from object_detection.utils import config_util\n",
    "from object_detection.protos import pipeline_pb2\n",
    "from google.protobuf import text_format"
   ]
  },
  {
   "cell_type": "code",
   "execution_count": null,
   "metadata": {
    "id": "c2A0mn4ipfDF"
   },
   "outputs": [],
   "source": [
    "config = config_util.get_configs_from_pipeline_file(files['PIPELINE_CONFIG'])"
   ]
  },
  {
   "cell_type": "code",
   "execution_count": null,
   "metadata": {
    "colab": {
     "base_uri": "https://localhost:8080/"
    },
    "id": "uQA13-afpfDF",
    "outputId": "907496a4-a39d-4b13-8c2c-e5978ecb1f10"
   },
   "outputs": [],
   "source": [
    "config"
   ]
  },
  {
   "cell_type": "code",
   "execution_count": null,
   "metadata": {
    "id": "9vK5lotDpfDF"
   },
   "outputs": [],
   "source": [
    "pipeline_config = pipeline_pb2.TrainEvalPipelineConfig()\n",
    "with tf.io.gfile.GFile(files['PIPELINE_CONFIG'], \"r\") as f:                                                                                                                                                                                                                     \n",
    "    proto_str = f.read()                                                                                                                                                                                                                                          \n",
    "    text_format.Merge(proto_str, pipeline_config)  "
   ]
  },
  {
   "cell_type": "code",
   "execution_count": null,
   "metadata": {
    "id": "rP43Ph0JpfDG"
   },
   "outputs": [],
   "source": [
    "pipeline_config.model.ssd.num_classes = len(labels)\n",
    "pipeline_config.train_config.batch_size = 4\n",
    "pipeline_config.train_config.fine_tune_checkpoint = os.path.join(paths['PRETRAINED_MODEL_PATH'], PRETRAINED_MODEL_NAME, 'checkpoint', 'ckpt-0')\n",
    "pipeline_config.train_config.fine_tune_checkpoint_type = \"detection\"\n",
    "pipeline_config.train_input_reader.label_map_path= files['LABELMAP']\n",
    "pipeline_config.train_input_reader.tf_record_input_reader.input_path[:] = [os.path.join(paths['ANNOTATION_PATH'], 'train.record')]\n",
    "pipeline_config.eval_input_reader[0].label_map_path = files['LABELMAP']\n",
    "pipeline_config.eval_input_reader[0].tf_record_input_reader.input_path[:] = [os.path.join(paths['ANNOTATION_PATH'], 'test.record')]"
   ]
  },
  {
   "cell_type": "code",
   "execution_count": null,
   "metadata": {
    "id": "oJvfgwWqpfDG"
   },
   "outputs": [],
   "source": [
    "config_text = text_format.MessageToString(pipeline_config)                                                                                                                                                                                                        \n",
    "with tf.io.gfile.GFile(files['PIPELINE_CONFIG'], \"wb\") as f:                                                                                                                                                                                                                     \n",
    "    f.write(config_text)   "
   ]
  },
  {
   "cell_type": "markdown",
   "metadata": {
    "id": "Zr3ON7xMpfDG"
   },
   "source": [
    "# 6. Train the model"
   ]
  },
  {
   "cell_type": "code",
   "execution_count": null,
   "metadata": {
    "id": "B-Y2UQmQpfDG"
   },
   "outputs": [],
   "source": [
    "TRAINING_SCRIPT = os.path.join(paths['APIMODEL_PATH'], 'research', 'object_detection', 'model_main_tf2.py')"
   ]
  },
  {
   "cell_type": "code",
   "execution_count": null,
   "metadata": {
    "id": "jMP2XDfQpfDH"
   },
   "outputs": [],
   "source": [
    "command = \"python {} --model_dir={} --pipeline_config_path={} --num_train_steps=2000\".format(TRAINING_SCRIPT, paths['CHECKPOINT_PATH'],files['PIPELINE_CONFIG'])"
   ]
  },
  {
   "cell_type": "code",
   "execution_count": null,
   "metadata": {
    "colab": {
     "base_uri": "https://localhost:8080/"
    },
    "id": "A4OXXi-ApfDH",
    "outputId": "117a0e83-012b-466e-b7a6-ccaa349ac5ab"
   },
   "outputs": [],
   "source": [
    "print(command)"
   ]
  },
  {
   "cell_type": "code",
   "execution_count": null,
   "metadata": {
    "colab": {
     "base_uri": "https://localhost:8080/"
    },
    "id": "i3ZsJR-qpfDH",
    "outputId": "cabec5e1-45e6-4f2f-d9cf-297d9c1d0225"
   },
   "outputs": [],
   "source": [
    "!{command}"
   ]
  },
  {
   "cell_type": "markdown",
   "metadata": {
    "id": "4_YRZu7npfDH"
   },
   "source": [
    "# 7. Evaluate the Model"
   ]
  },
  {
   "cell_type": "code",
   "execution_count": null,
   "metadata": {
    "id": "80L7-fdPpfDH"
   },
   "outputs": [],
   "source": [
    "command = \"python {} --model_dir={} --pipeline_config_path={} --checkpoint_dir={}\".format(TRAINING_SCRIPT, paths['CHECKPOINT_PATH'],files['PIPELINE_CONFIG'], paths['CHECKPOINT_PATH'])"
   ]
  },
  {
   "cell_type": "code",
   "execution_count": null,
   "metadata": {
    "colab": {
     "base_uri": "https://localhost:8080/"
    },
    "id": "lYsgEPx9pfDH",
    "outputId": "8632d48b-91d2-45d9-bcb8-c1b172bf6eed"
   },
   "outputs": [],
   "source": [
    "print(command)"
   ]
  },
  {
   "cell_type": "code",
   "execution_count": null,
   "metadata": {
    "id": "lqTV2jGBpfDH"
   },
   "outputs": [],
   "source": [
    "!{command}"
   ]
  },
  {
   "cell_type": "markdown",
   "metadata": {
    "id": "orvRk02UpfDI"
   },
   "source": [
    "# 8. Load Train Model From Checkpoint"
   ]
  },
  {
   "cell_type": "code",
   "execution_count": 8,
   "metadata": {
    "id": "8TYk4_oIpfDI"
   },
   "outputs": [],
   "source": [
    "import os\n",
    "import tensorflow as tf\n",
    "from object_detection.utils import label_map_util\n",
    "from object_detection.utils import visualization_utils as viz_utils\n",
    "from object_detection.builders import model_builder\n",
    "from object_detection.utils import config_util"
   ]
  },
  {
   "cell_type": "code",
   "execution_count": 9,
   "metadata": {
    "id": "tDnQg-cYpfDI"
   },
   "outputs": [
    {
     "name": "stderr",
     "output_type": "stream",
     "text": [
      "2021-10-17 19:18:03.343569: I tensorflow/stream_executor/cuda/cuda_gpu_executor.cc:937] successful NUMA node read from SysFS had negative value (-1), but there must be at least one NUMA node, so returning NUMA node zero\n",
      "2021-10-17 19:18:03.374988: I tensorflow/stream_executor/cuda/cuda_gpu_executor.cc:937] successful NUMA node read from SysFS had negative value (-1), but there must be at least one NUMA node, so returning NUMA node zero\n",
      "2021-10-17 19:18:03.375804: I tensorflow/stream_executor/cuda/cuda_gpu_executor.cc:937] successful NUMA node read from SysFS had negative value (-1), but there must be at least one NUMA node, so returning NUMA node zero\n",
      "2021-10-17 19:18:03.377184: I tensorflow/core/platform/cpu_feature_guard.cc:142] This TensorFlow binary is optimized with oneAPI Deep Neural Network Library (oneDNN) to use the following CPU instructions in performance-critical operations:  AVX2 FMA\n",
      "To enable them in other operations, rebuild TensorFlow with the appropriate compiler flags.\n",
      "2021-10-17 19:18:03.379550: I tensorflow/stream_executor/cuda/cuda_gpu_executor.cc:937] successful NUMA node read from SysFS had negative value (-1), but there must be at least one NUMA node, so returning NUMA node zero\n",
      "2021-10-17 19:18:03.380118: I tensorflow/stream_executor/cuda/cuda_gpu_executor.cc:937] successful NUMA node read from SysFS had negative value (-1), but there must be at least one NUMA node, so returning NUMA node zero\n",
      "2021-10-17 19:18:03.380514: I tensorflow/stream_executor/cuda/cuda_gpu_executor.cc:937] successful NUMA node read from SysFS had negative value (-1), but there must be at least one NUMA node, so returning NUMA node zero\n",
      "2021-10-17 19:18:04.084820: I tensorflow/stream_executor/cuda/cuda_gpu_executor.cc:937] successful NUMA node read from SysFS had negative value (-1), but there must be at least one NUMA node, so returning NUMA node zero\n",
      "2021-10-17 19:18:04.085325: I tensorflow/stream_executor/cuda/cuda_gpu_executor.cc:937] successful NUMA node read from SysFS had negative value (-1), but there must be at least one NUMA node, so returning NUMA node zero\n",
      "2021-10-17 19:18:04.085713: I tensorflow/stream_executor/cuda/cuda_gpu_executor.cc:937] successful NUMA node read from SysFS had negative value (-1), but there must be at least one NUMA node, so returning NUMA node zero\n",
      "2021-10-17 19:18:04.086075: I tensorflow/core/common_runtime/gpu/gpu_device.cc:1510] Created device /job:localhost/replica:0/task:0/device:GPU:0 with 2382 MB memory:  -> device: 0, name: NVIDIA GeForce GTX 1650 Ti, pci bus id: 0000:01:00.0, compute capability: 7.5\n"
     ]
    }
   ],
   "source": [
    "# Load pipeline config and build a detection model\n",
    "configs = config_util.get_configs_from_pipeline_file(files['PIPELINE_CONFIG'])\n",
    "detection_model = model_builder.build(model_config=configs['model'], is_training=False)\n",
    "\n",
    "# Restore checkpoint\n",
    "ckpt = tf.compat.v2.train.Checkpoint(model=detection_model)\n",
    "ckpt.restore(os.path.join(paths['CHECKPOINT_PATH'], 'ckpt-3')).expect_partial()\n",
    "\n",
    "@tf.function\n",
    "def detect_fn(image):\n",
    "    image, shapes = detection_model.preprocess(image)\n",
    "    prediction_dict = detection_model.predict(image, shapes)\n",
    "    detections = detection_model.postprocess(prediction_dict, shapes)\n",
    "    return detections"
   ]
  },
  {
   "cell_type": "markdown",
   "metadata": {
    "id": "0EmsmbBZpfDI"
   },
   "source": [
    "# 9. Detect from an Image"
   ]
  },
  {
   "cell_type": "code",
   "execution_count": 10,
   "metadata": {
    "id": "Y_MKiuZ4pfDI"
   },
   "outputs": [],
   "source": [
    "import cv2 \n",
    "import numpy as np\n",
    "from matplotlib import pyplot as plt\n",
    "%matplotlib inline"
   ]
  },
  {
   "cell_type": "code",
   "execution_count": 11,
   "metadata": {
    "id": "cBDbIhNapfDI"
   },
   "outputs": [],
   "source": [
    "category_index = label_map_util.create_category_index_from_labelmap(files['LABELMAP'])"
   ]
  },
  {
   "cell_type": "code",
   "execution_count": 12,
   "metadata": {},
   "outputs": [
    {
     "data": {
      "text/plain": [
       "{1: {'id': 1, 'name': 'One'},\n",
       " 2: {'id': 2, 'name': 'Two'},\n",
       " 3: {'id': 3, 'name': 'Three'},\n",
       " 4: {'id': 4, 'name': 'Four'}}"
      ]
     },
     "execution_count": 12,
     "metadata": {},
     "output_type": "execute_result"
    }
   ],
   "source": [
    "category_index"
   ]
  },
  {
   "cell_type": "code",
   "execution_count": 13,
   "metadata": {
    "id": "Lx3crOhOzITB"
   },
   "outputs": [],
   "source": [
    "IMAGE_PATH = os.path.join(paths['IMAGE_PATH'], 'test', 'Two.10_753ed834-2c57-11ec-8067-19b42f595ea1.jpg')"
   ]
  },
  {
   "cell_type": "code",
   "execution_count": 14,
   "metadata": {
    "colab": {
     "base_uri": "https://localhost:8080/",
     "height": 269
    },
    "id": "Tpzn1SMry1yK",
    "outputId": "c392a2c5-10fe-4fc4-9998-a1d4c7db2bd3"
   },
   "outputs": [
    {
     "name": "stderr",
     "output_type": "stream",
     "text": [
      "2021-10-17 19:18:20.020834: I tensorflow/compiler/mlir/mlir_graph_optimization_pass.cc:185] None of the MLIR Optimization Passes are enabled (registered 2)\n",
      "2021-10-17 19:18:21.216511: I tensorflow/stream_executor/cuda/cuda_dnn.cc:369] Loaded cuDNN version 8201\n"
     ]
    },
    {
     "data": {
      "image/png": "[encoded data removed]",
      "text/plain": [
       "<Figure size 432x288 with 1 Axes>"
      ]
     },
     "metadata": {
      "needs_background": "light"
     },
     "output_type": "display_data"
    },
    {
     "data": {
      "text/plain": [
       "True"
      ]
     },
     "execution_count": 14,
     "metadata": {},
     "output_type": "execute_result"
    }
   ],
   "source": [
    "img = cv2.imread(IMAGE_PATH)\n",
    "image_np = np.array(img)\n",
    "\n",
    "input_tensor = tf.convert_to_tensor(np.expand_dims(image_np, 0), dtype=tf.float32)\n",
    "detections = detect_fn(input_tensor)\n",
    "\n",
    "num_detections = int(detections.pop('num_detections'))\n",
    "detections = {key: value[0, :num_detections].numpy()\n",
    "              for key, value in detections.items()}\n",
    "detections['num_detections'] = num_detections\n",
    "\n",
    "# detection_classes should be ints.\n",
    "detections['detection_classes'] = detections['detection_classes'].astype(np.int64)\n",
    "\n",
    "label_id_offset = 1\n",
    "image_np_with_detections = image_np.copy()\n",
    "\n",
    "image_np_with_detections = viz_utils.visualize_boxes_and_labels_on_image_array(\n",
    "            image_np_with_detections,\n",
    "            detections['detection_boxes'],\n",
    "            detections['detection_classes']+label_id_offset,\n",
    "            detections['detection_scores'],\n",
    "            category_index,\n",
    "            use_normalized_coordinates=True,\n",
    "            max_boxes_to_draw=5,\n",
    "            min_score_thresh=.6,\n",
    "            agnostic_mode=False)\n",
    "\n",
    "plt.imshow(cv2.cvtColor(image_np_with_detections, cv2.COLOR_BGR2RGB))\n",
    "plt.show()\n",
    "cv2.imwrite('detected.jpg', image_np_with_detections)  \n"
   ]
  },
  {
   "cell_type": "markdown",
   "metadata": {
    "id": "IsNAaYAo0WVL"
   },
   "source": [
    "# 10. Real Time Detections from your Webcam"
   ]
  },
  {
   "cell_type": "code",
   "execution_count": 15,
   "metadata": {},
   "outputs": [],
   "source": [
    "#!pip uninstall opencv-python-headless -y"
   ]
  },
  {
   "cell_type": "code",
   "execution_count": 16,
   "metadata": {},
   "outputs": [
    {
     "name": "stdout",
     "output_type": "stream",
     "text": [
      "Requirement already satisfied: opencv-contrib-python in ./tfod/lib/python3.8/site-packages (4.5.3.56)\r\n",
      "Requirement already satisfied: numpy>=1.17.3 in ./tfod/lib/python3.8/site-packages (from opencv-contrib-python) (1.19.5)\r\n"
     ]
    }
   ],
   "source": [
    "!pip install opencv-contrib-python"
   ]
  },
  {
   "cell_type": "code",
   "execution_count": 17,
   "metadata": {},
   "outputs": [],
   "source": [
    "cap = cv2.VideoCapture(0)\n",
    "width = int(cap.get(cv2.CAP_PROP_FRAME_WIDTH))\n",
    "height = int(cap.get(cv2.CAP_PROP_FRAME_HEIGHT))"
   ]
  },
  {
   "cell_type": "code",
   "execution_count": 18,
   "metadata": {
    "id": "o_grs6OGpfDJ"
   },
   "outputs": [
    {
     "name": "stderr",
     "output_type": "stream",
     "text": [
      "QObject::moveToThread: Current thread (0x5645c38a9fc0) is not the object's thread (0x5645cad2b0b0).\n",
      "Cannot move to target thread (0x5645c38a9fc0)\n",
      "\n",
      "QObject::moveToThread: Current thread (0x5645c38a9fc0) is not the object's thread (0x5645cad2b0b0).\n",
      "Cannot move to target thread (0x5645c38a9fc0)\n",
      "\n",
      "QObject::moveToThread: Current thread (0x5645c38a9fc0) is not the object's thread (0x5645cad2b0b0).\n",
      "Cannot move to target thread (0x5645c38a9fc0)\n",
      "\n",
      "QObject::moveToThread: Current thread (0x5645c38a9fc0) is not the object's thread (0x5645cad2b0b0).\n",
      "Cannot move to target thread (0x5645c38a9fc0)\n",
      "\n",
      "QObject::moveToThread: Current thread (0x5645c38a9fc0) is not the object's thread (0x5645cad2b0b0).\n",
      "Cannot move to target thread (0x5645c38a9fc0)\n",
      "\n",
      "QObject::moveToThread: Current thread (0x5645c38a9fc0) is not the object's thread (0x5645cad2b0b0).\n",
      "Cannot move to target thread (0x5645c38a9fc0)\n",
      "\n",
      "QObject::moveToThread: Current thread (0x5645c38a9fc0) is not the object's thread (0x5645cad2b0b0).\n",
      "Cannot move to target thread (0x5645c38a9fc0)\n",
      "\n",
      "QObject::moveToThread: Current thread (0x5645c38a9fc0) is not the object's thread (0x5645cad2b0b0).\n",
      "Cannot move to target thread (0x5645c38a9fc0)\n",
      "\n",
      "QObject::moveToThread: Current thread (0x5645c38a9fc0) is not the object's thread (0x5645cad2b0b0).\n",
      "Cannot move to target thread (0x5645c38a9fc0)\n",
      "\n",
      "QObject::moveToThread: Current thread (0x5645c38a9fc0) is not the object's thread (0x5645cad2b0b0).\n",
      "Cannot move to target thread (0x5645c38a9fc0)\n",
      "\n",
      "QObject::moveToThread: Current thread (0x5645c38a9fc0) is not the object's thread (0x5645cad2b0b0).\n",
      "Cannot move to target thread (0x5645c38a9fc0)\n",
      "\n",
      "QObject::moveToThread: Current thread (0x5645c38a9fc0) is not the object's thread (0x5645cad2b0b0).\n",
      "Cannot move to target thread (0x5645c38a9fc0)\n",
      "\n",
      "QObject::moveToThread: Current thread (0x5645c38a9fc0) is not the object's thread (0x5645cad2b0b0).\n",
      "Cannot move to target thread (0x5645c38a9fc0)\n",
      "\n",
      "QObject::moveToThread: Current thread (0x5645c38a9fc0) is not the object's thread (0x5645cad2b0b0).\n",
      "Cannot move to target thread (0x5645c38a9fc0)\n",
      "\n",
      "QObject::moveToThread: Current thread (0x5645c38a9fc0) is not the object's thread (0x5645cad2b0b0).\n",
      "Cannot move to target thread (0x5645c38a9fc0)\n",
      "\n",
      "QObject::moveToThread: Current thread (0x5645c38a9fc0) is not the object's thread (0x5645cad2b0b0).\n",
      "Cannot move to target thread (0x5645c38a9fc0)\n",
      "\n",
      "QObject::moveToThread: Current thread (0x5645c38a9fc0) is not the object's thread (0x5645cad2b0b0).\n",
      "Cannot move to target thread (0x5645c38a9fc0)\n",
      "\n",
      "QObject::moveToThread: Current thread (0x5645c38a9fc0) is not the object's thread (0x5645cad2b0b0).\n",
      "Cannot move to target thread (0x5645c38a9fc0)\n",
      "\n",
      "QObject::moveToThread: Current thread (0x5645c38a9fc0) is not the object's thread (0x5645cad2b0b0).\n",
      "Cannot move to target thread (0x5645c38a9fc0)\n",
      "\n",
      "QObject::moveToThread: Current thread (0x5645c38a9fc0) is not the object's thread (0x5645cad2b0b0).\n",
      "Cannot move to target thread (0x5645c38a9fc0)\n",
      "\n",
      "QObject::moveToThread: Current thread (0x5645c38a9fc0) is not the object's thread (0x5645cad2b0b0).\n",
      "Cannot move to target thread (0x5645c38a9fc0)\n",
      "\n",
      "QObject::moveToThread: Current thread (0x5645c38a9fc0) is not the object's thread (0x5645cad2b0b0).\n",
      "Cannot move to target thread (0x5645c38a9fc0)\n",
      "\n",
      "QObject::moveToThread: Current thread (0x5645c38a9fc0) is not the object's thread (0x5645cad2b0b0).\n",
      "Cannot move to target thread (0x5645c38a9fc0)\n",
      "\n",
      "QObject::moveToThread: Current thread (0x5645c38a9fc0) is not the object's thread (0x5645cad2b0b0).\n",
      "Cannot move to target thread (0x5645c38a9fc0)\n",
      "\n",
      "QObject::moveToThread: Current thread (0x5645c38a9fc0) is not the object's thread (0x5645cad2b0b0).\n",
      "Cannot move to target thread (0x5645c38a9fc0)\n",
      "\n",
      "QObject::moveToThread: Current thread (0x5645c38a9fc0) is not the object's thread (0x5645cad2b0b0).\n",
      "Cannot move to target thread (0x5645c38a9fc0)\n",
      "\n",
      "QObject::moveToThread: Current thread (0x5645c38a9fc0) is not the object's thread (0x5645cad2b0b0).\n",
      "Cannot move to target thread (0x5645c38a9fc0)\n",
      "\n",
      "QObject::moveToThread: Current thread (0x5645c38a9fc0) is not the object's thread (0x5645cad2b0b0).\n",
      "Cannot move to target thread (0x5645c38a9fc0)\n",
      "\n",
      "QObject::moveToThread: Current thread (0x5645c38a9fc0) is not the object's thread (0x5645cad2b0b0).\n",
      "Cannot move to target thread (0x5645c38a9fc0)\n",
      "\n",
      "QObject::moveToThread: Current thread (0x5645c38a9fc0) is not the object's thread (0x5645cad2b0b0).\n",
      "Cannot move to target thread (0x5645c38a9fc0)\n",
      "\n",
      "QObject::moveToThread: Current thread (0x5645c38a9fc0) is not the object's thread (0x5645cad2b0b0).\n",
      "Cannot move to target thread (0x5645c38a9fc0)\n",
      "\n",
      "QObject::moveToThread: Current thread (0x5645c38a9fc0) is not the object's thread (0x5645cad2b0b0).\n",
      "Cannot move to target thread (0x5645c38a9fc0)\n",
      "\n",
      "QObject::moveToThread: Current thread (0x5645c38a9fc0) is not the object's thread (0x5645cad2b0b0).\n",
      "Cannot move to target thread (0x5645c38a9fc0)\n",
      "\n",
      "QObject::moveToThread: Current thread (0x5645c38a9fc0) is not the object's thread (0x5645cad2b0b0).\n",
      "Cannot move to target thread (0x5645c38a9fc0)\n",
      "\n",
      "QObject::moveToThread: Current thread (0x5645c38a9fc0) is not the object's thread (0x5645cad2b0b0).\n",
      "Cannot move to target thread (0x5645c38a9fc0)\n",
      "\n",
      "QObject::moveToThread: Current thread (0x5645c38a9fc0) is not the object's thread (0x5645cad2b0b0).\n",
      "Cannot move to target thread (0x5645c38a9fc0)\n",
      "\n",
      "QObject::moveToThread: Current thread (0x5645c38a9fc0) is not the object's thread (0x5645cad2b0b0).\n",
      "Cannot move to target thread (0x5645c38a9fc0)\n",
      "\n",
      "QObject::moveToThread: Current thread (0x5645c38a9fc0) is not the object's thread (0x5645cad2b0b0).\n",
      "Cannot move to target thread (0x5645c38a9fc0)\n",
      "\n",
      "QObject::moveToThread: Current thread (0x5645c38a9fc0) is not the object's thread (0x5645cad2b0b0).\n",
      "Cannot move to target thread (0x5645c38a9fc0)\n",
      "\n",
      "QObject::moveToThread: Current thread (0x5645c38a9fc0) is not the object's thread (0x5645cad2b0b0).\n",
      "Cannot move to target thread (0x5645c38a9fc0)\n",
      "\n",
      "QObject::moveToThread: Current thread (0x5645c38a9fc0) is not the object's thread (0x5645cad2b0b0).\n",
      "Cannot move to target thread (0x5645c38a9fc0)\n",
      "\n",
      "QObject::moveToThread: Current thread (0x5645c38a9fc0) is not the object's thread (0x5645cad2b0b0).\n",
      "Cannot move to target thread (0x5645c38a9fc0)\n",
      "\n",
      "QObject::moveToThread: Current thread (0x5645c38a9fc0) is not the object's thread (0x5645cad2b0b0).\n",
      "Cannot move to target thread (0x5645c38a9fc0)\n",
      "\n",
      "QObject::moveToThread: Current thread (0x5645c38a9fc0) is not the object's thread (0x5645cad2b0b0).\n",
      "Cannot move to target thread (0x5645c38a9fc0)\n",
      "\n",
      "QObject::moveToThread: Current thread (0x5645c38a9fc0) is not the object's thread (0x5645cad2b0b0).\n",
      "Cannot move to target thread (0x5645c38a9fc0)\n",
      "\n",
      "QObject::moveToThread: Current thread (0x5645c38a9fc0) is not the object's thread (0x5645cad2b0b0).\n",
      "Cannot move to target thread (0x5645c38a9fc0)\n",
      "\n",
      "QObject::moveToThread: Current thread (0x5645c38a9fc0) is not the object's thread (0x5645cad2b0b0).\n",
      "Cannot move to target thread (0x5645c38a9fc0)\n",
      "\n",
      "QObject::moveToThread: Current thread (0x5645c38a9fc0) is not the object's thread (0x5645cad2b0b0).\n",
      "Cannot move to target thread (0x5645c38a9fc0)\n",
      "\n",
      "QObject::moveToThread: Current thread (0x5645c38a9fc0) is not the object's thread (0x5645cad2b0b0).\n",
      "Cannot move to target thread (0x5645c38a9fc0)\n",
      "\n",
      "QObject::moveToThread: Current thread (0x5645c38a9fc0) is not the object's thread (0x5645cad2b0b0).\n",
      "Cannot move to target thread (0x5645c38a9fc0)\n",
      "\n",
      "QObject::moveToThread: Current thread (0x5645c38a9fc0) is not the object's thread (0x5645cad2b0b0).\n",
      "Cannot move to target thread (0x5645c38a9fc0)\n",
      "\n",
      "QObject::moveToThread: Current thread (0x5645c38a9fc0) is not the object's thread (0x5645cad2b0b0).\n",
      "Cannot move to target thread (0x5645c38a9fc0)\n",
      "\n",
      "QObject::moveToThread: Current thread (0x5645c38a9fc0) is not the object's thread (0x5645cad2b0b0).\n",
      "Cannot move to target thread (0x5645c38a9fc0)\n",
      "\n",
      "QObject::moveToThread: Current thread (0x5645c38a9fc0) is not the object's thread (0x5645cad2b0b0).\n",
      "Cannot move to target thread (0x5645c38a9fc0)\n",
      "\n",
      "QObject::moveToThread: Current thread (0x5645c38a9fc0) is not the object's thread (0x5645cad2b0b0).\n",
      "Cannot move to target thread (0x5645c38a9fc0)\n",
      "\n",
      "QObject::moveToThread: Current thread (0x5645c38a9fc0) is not the object's thread (0x5645cad2b0b0).\n",
      "Cannot move to target thread (0x5645c38a9fc0)\n",
      "\n",
      "QObject::moveToThread: Current thread (0x5645c38a9fc0) is not the object's thread (0x5645cad2b0b0).\n",
      "Cannot move to target thread (0x5645c38a9fc0)\n",
      "\n",
      "QObject::moveToThread: Current thread (0x5645c38a9fc0) is not the object's thread (0x5645cad2b0b0).\n",
      "Cannot move to target thread (0x5645c38a9fc0)\n",
      "\n",
      "QObject::moveToThread: Current thread (0x5645c38a9fc0) is not the object's thread (0x5645cad2b0b0).\n",
      "Cannot move to target thread (0x5645c38a9fc0)\n",
      "\n",
      "QObject::moveToThread: Current thread (0x5645c38a9fc0) is not the object's thread (0x5645cad2b0b0).\n",
      "Cannot move to target thread (0x5645c38a9fc0)\n",
      "\n",
      "QObject::moveToThread: Current thread (0x5645c38a9fc0) is not the object's thread (0x5645cad2b0b0).\n",
      "Cannot move to target thread (0x5645c38a9fc0)\n",
      "\n",
      "QObject::moveToThread: Current thread (0x5645c38a9fc0) is not the object's thread (0x5645cad2b0b0).\n",
      "Cannot move to target thread (0x5645c38a9fc0)\n",
      "\n",
      "QObject::moveToThread: Current thread (0x5645c38a9fc0) is not the object's thread (0x5645cad2b0b0).\n",
      "Cannot move to target thread (0x5645c38a9fc0)\n",
      "\n",
      "QObject::moveToThread: Current thread (0x5645c38a9fc0) is not the object's thread (0x5645cad2b0b0).\n",
      "Cannot move to target thread (0x5645c38a9fc0)\n",
      "\n",
      "QObject::moveToThread: Current thread (0x5645c38a9fc0) is not the object's thread (0x5645cad2b0b0).\n",
      "Cannot move to target thread (0x5645c38a9fc0)\n",
      "\n",
      "QObject::moveToThread: Current thread (0x5645c38a9fc0) is not the object's thread (0x5645cad2b0b0).\n",
      "Cannot move to target thread (0x5645c38a9fc0)\n",
      "\n",
      "QObject::moveToThread: Current thread (0x5645c38a9fc0) is not the object's thread (0x5645cad2b0b0).\n",
      "Cannot move to target thread (0x5645c38a9fc0)\n",
      "\n",
      "QObject::moveToThread: Current thread (0x5645c38a9fc0) is not the object's thread (0x5645cad2b0b0).\n",
      "Cannot move to target thread (0x5645c38a9fc0)\n",
      "\n",
      "QObject::moveToThread: Current thread (0x5645c38a9fc0) is not the object's thread (0x5645cad2b0b0).\n",
      "Cannot move to target thread (0x5645c38a9fc0)\n",
      "\n",
      "QObject::moveToThread: Current thread (0x5645c38a9fc0) is not the object's thread (0x5645cad2b0b0).\n",
      "Cannot move to target thread (0x5645c38a9fc0)\n",
      "\n",
      "QObject::moveToThread: Current thread (0x5645c38a9fc0) is not the object's thread (0x5645cad2b0b0).\n",
      "Cannot move to target thread (0x5645c38a9fc0)\n",
      "\n",
      "QObject::moveToThread: Current thread (0x5645c38a9fc0) is not the object's thread (0x5645cad2b0b0).\n",
      "Cannot move to target thread (0x5645c38a9fc0)\n",
      "\n",
      "QObject::moveToThread: Current thread (0x5645c38a9fc0) is not the object's thread (0x5645cad2b0b0).\n",
      "Cannot move to target thread (0x5645c38a9fc0)\n",
      "\n",
      "QObject::moveToThread: Current thread (0x5645c38a9fc0) is not the object's thread (0x5645cad2b0b0).\n",
      "Cannot move to target thread (0x5645c38a9fc0)\n",
      "\n",
      "QObject::moveToThread: Current thread (0x5645c38a9fc0) is not the object's thread (0x5645cad2b0b0).\n",
      "Cannot move to target thread (0x5645c38a9fc0)\n",
      "\n",
      "QObject::moveToThread: Current thread (0x5645c38a9fc0) is not the object's thread (0x5645cad2b0b0).\n",
      "Cannot move to target thread (0x5645c38a9fc0)\n",
      "\n",
      "QObject::moveToThread: Current thread (0x5645c38a9fc0) is not the object's thread (0x5645cad2b0b0).\n",
      "Cannot move to target thread (0x5645c38a9fc0)\n",
      "\n",
      "QObject::moveToThread: Current thread (0x5645c38a9fc0) is not the object's thread (0x5645cad2b0b0).\n",
      "Cannot move to target thread (0x5645c38a9fc0)\n",
      "\n",
      "QObject::moveToThread: Current thread (0x5645c38a9fc0) is not the object's thread (0x5645cad2b0b0).\n",
      "Cannot move to target thread (0x5645c38a9fc0)\n",
      "\n",
      "QObject::moveToThread: Current thread (0x5645c38a9fc0) is not the object's thread (0x5645cad2b0b0).\n",
      "Cannot move to target thread (0x5645c38a9fc0)\n",
      "\n",
      "QObject::moveToThread: Current thread (0x5645c38a9fc0) is not the object's thread (0x5645cad2b0b0).\n",
      "Cannot move to target thread (0x5645c38a9fc0)\n",
      "\n",
      "QObject::moveToThread: Current thread (0x5645c38a9fc0) is not the object's thread (0x5645cad2b0b0).\n",
      "Cannot move to target thread (0x5645c38a9fc0)\n",
      "\n",
      "QObject::moveToThread: Current thread (0x5645c38a9fc0) is not the object's thread (0x5645cad2b0b0).\n",
      "Cannot move to target thread (0x5645c38a9fc0)\n",
      "\n",
      "QObject::moveToThread: Current thread (0x5645c38a9fc0) is not the object's thread (0x5645cad2b0b0).\n",
      "Cannot move to target thread (0x5645c38a9fc0)\n",
      "\n",
      "QObject::moveToThread: Current thread (0x5645c38a9fc0) is not the object's thread (0x5645cad2b0b0).\n",
      "Cannot move to target thread (0x5645c38a9fc0)\n",
      "\n",
      "QObject::moveToThread: Current thread (0x5645c38a9fc0) is not the object's thread (0x5645cad2b0b0).\n",
      "Cannot move to target thread (0x5645c38a9fc0)\n",
      "\n",
      "QObject::moveToThread: Current thread (0x5645c38a9fc0) is not the object's thread (0x5645cad2b0b0).\n",
      "Cannot move to target thread (0x5645c38a9fc0)\n",
      "\n",
      "QObject::moveToThread: Current thread (0x5645c38a9fc0) is not the object's thread (0x5645cad2b0b0).\n",
      "Cannot move to target thread (0x5645c38a9fc0)\n",
      "\n",
      "QObject::moveToThread: Current thread (0x5645c38a9fc0) is not the object's thread (0x5645cad2b0b0).\n",
      "Cannot move to target thread (0x5645c38a9fc0)\n",
      "\n",
      "QObject::moveToThread: Current thread (0x5645c38a9fc0) is not the object's thread (0x5645cad2b0b0).\n",
      "Cannot move to target thread (0x5645c38a9fc0)\n",
      "\n",
      "QObject::moveToThread: Current thread (0x5645c38a9fc0) is not the object's thread (0x5645cad2b0b0).\n",
      "Cannot move to target thread (0x5645c38a9fc0)\n",
      "\n",
      "QObject::moveToThread: Current thread (0x5645c38a9fc0) is not the object's thread (0x5645cad2b0b0).\n",
      "Cannot move to target thread (0x5645c38a9fc0)\n",
      "\n",
      "QObject::moveToThread: Current thread (0x5645c38a9fc0) is not the object's thread (0x5645cad2b0b0).\n",
      "Cannot move to target thread (0x5645c38a9fc0)\n",
      "\n",
      "QObject::moveToThread: Current thread (0x5645c38a9fc0) is not the object's thread (0x5645cad2b0b0).\n",
      "Cannot move to target thread (0x5645c38a9fc0)\n",
      "\n",
      "QObject::moveToThread: Current thread (0x5645c38a9fc0) is not the object's thread (0x5645cad2b0b0).\n",
      "Cannot move to target thread (0x5645c38a9fc0)\n",
      "\n",
      "QObject::moveToThread: Current thread (0x5645c38a9fc0) is not the object's thread (0x5645cad2b0b0).\n",
      "Cannot move to target thread (0x5645c38a9fc0)\n",
      "\n",
      "QObject::moveToThread: Current thread (0x5645c38a9fc0) is not the object's thread (0x5645cad2b0b0).\n",
      "Cannot move to target thread (0x5645c38a9fc0)\n",
      "\n",
      "QObject::moveToThread: Current thread (0x5645c38a9fc0) is not the object's thread (0x5645cad2b0b0).\n",
      "Cannot move to target thread (0x5645c38a9fc0)\n",
      "\n",
      "QObject::moveToThread: Current thread (0x5645c38a9fc0) is not the object's thread (0x5645cad2b0b0).\n",
      "Cannot move to target thread (0x5645c38a9fc0)\n",
      "\n",
      "QObject::moveToThread: Current thread (0x5645c38a9fc0) is not the object's thread (0x5645cad2b0b0).\n",
      "Cannot move to target thread (0x5645c38a9fc0)\n",
      "\n",
      "QObject::moveToThread: Current thread (0x5645c38a9fc0) is not the object's thread (0x5645cad2b0b0).\n",
      "Cannot move to target thread (0x5645c38a9fc0)\n",
      "\n",
      "QObject::moveToThread: Current thread (0x5645c38a9fc0) is not the object's thread (0x5645cad2b0b0).\n",
      "Cannot move to target thread (0x5645c38a9fc0)\n",
      "\n",
      "QObject::moveToThread: Current thread (0x5645c38a9fc0) is not the object's thread (0x5645cad2b0b0).\n",
      "Cannot move to target thread (0x5645c38a9fc0)\n",
      "\n",
      "QObject::moveToThread: Current thread (0x5645c38a9fc0) is not the object's thread (0x5645cad2b0b0).\n",
      "Cannot move to target thread (0x5645c38a9fc0)\n",
      "\n",
      "QObject::moveToThread: Current thread (0x5645c38a9fc0) is not the object's thread (0x5645cad2b0b0).\n",
      "Cannot move to target thread (0x5645c38a9fc0)\n",
      "\n",
      "QObject::moveToThread: Current thread (0x5645c38a9fc0) is not the object's thread (0x5645cad2b0b0).\n",
      "Cannot move to target thread (0x5645c38a9fc0)\n",
      "\n",
      "QObject::moveToThread: Current thread (0x5645c38a9fc0) is not the object's thread (0x5645cad2b0b0).\n",
      "Cannot move to target thread (0x5645c38a9fc0)\n",
      "\n",
      "QObject::moveToThread: Current thread (0x5645c38a9fc0) is not the object's thread (0x5645cad2b0b0).\n",
      "Cannot move to target thread (0x5645c38a9fc0)\n",
      "\n",
      "QObject::moveToThread: Current thread (0x5645c38a9fc0) is not the object's thread (0x5645cad2b0b0).\n",
      "Cannot move to target thread (0x5645c38a9fc0)\n",
      "\n",
      "QObject::moveToThread: Current thread (0x5645c38a9fc0) is not the object's thread (0x5645cad2b0b0).\n",
      "Cannot move to target thread (0x5645c38a9fc0)\n",
      "\n",
      "QObject::moveToThread: Current thread (0x5645c38a9fc0) is not the object's thread (0x5645cad2b0b0).\n",
      "Cannot move to target thread (0x5645c38a9fc0)\n",
      "\n",
      "QObject::moveToThread: Current thread (0x5645c38a9fc0) is not the object's thread (0x5645cad2b0b0).\n",
      "Cannot move to target thread (0x5645c38a9fc0)\n",
      "\n",
      "QObject::moveToThread: Current thread (0x5645c38a9fc0) is not the object's thread (0x5645cad2b0b0).\n",
      "Cannot move to target thread (0x5645c38a9fc0)\n",
      "\n",
      "QObject::moveToThread: Current thread (0x5645c38a9fc0) is not the object's thread (0x5645cad2b0b0).\n",
      "Cannot move to target thread (0x5645c38a9fc0)\n",
      "\n",
      "QObject::moveToThread: Current thread (0x5645c38a9fc0) is not the object's thread (0x5645cad2b0b0).\n",
      "Cannot move to target thread (0x5645c38a9fc0)\n",
      "\n",
      "QObject::moveToThread: Current thread (0x5645c38a9fc0) is not the object's thread (0x5645cad2b0b0).\n",
      "Cannot move to target thread (0x5645c38a9fc0)\n",
      "\n",
      "QObject::moveToThread: Current thread (0x5645c38a9fc0) is not the object's thread (0x5645cad2b0b0).\n",
      "Cannot move to target thread (0x5645c38a9fc0)\n",
      "\n",
      "QObject::moveToThread: Current thread (0x5645c38a9fc0) is not the object's thread (0x5645cad2b0b0).\n",
      "Cannot move to target thread (0x5645c38a9fc0)\n",
      "\n",
      "QObject::moveToThread: Current thread (0x5645c38a9fc0) is not the object's thread (0x5645cad2b0b0).\n",
      "Cannot move to target thread (0x5645c38a9fc0)\n",
      "\n",
      "QObject::moveToThread: Current thread (0x5645c38a9fc0) is not the object's thread (0x5645cad2b0b0).\n",
      "Cannot move to target thread (0x5645c38a9fc0)\n",
      "\n",
      "QObject::moveToThread: Current thread (0x5645c38a9fc0) is not the object's thread (0x5645cad2b0b0).\n",
      "Cannot move to target thread (0x5645c38a9fc0)\n",
      "\n",
      "QObject::moveToThread: Current thread (0x5645c38a9fc0) is not the object's thread (0x5645cad2b0b0).\n",
      "Cannot move to target thread (0x5645c38a9fc0)\n",
      "\n",
      "QObject::moveToThread: Current thread (0x5645c38a9fc0) is not the object's thread (0x5645cad2b0b0).\n",
      "Cannot move to target thread (0x5645c38a9fc0)\n",
      "\n",
      "QObject::moveToThread: Current thread (0x5645c38a9fc0) is not the object's thread (0x5645cad2b0b0).\n",
      "Cannot move to target thread (0x5645c38a9fc0)\n",
      "\n",
      "QObject::moveToThread: Current thread (0x5645c38a9fc0) is not the object's thread (0x5645cad2b0b0).\n",
      "Cannot move to target thread (0x5645c38a9fc0)\n",
      "\n",
      "QObject::moveToThread: Current thread (0x5645c38a9fc0) is not the object's thread (0x5645cad2b0b0).\n",
      "Cannot move to target thread (0x5645c38a9fc0)\n",
      "\n",
      "QObject::moveToThread: Current thread (0x5645c38a9fc0) is not the object's thread (0x5645cad2b0b0).\n",
      "Cannot move to target thread (0x5645c38a9fc0)\n",
      "\n",
      "QObject::moveToThread: Current thread (0x5645c38a9fc0) is not the object's thread (0x5645cad2b0b0).\n",
      "Cannot move to target thread (0x5645c38a9fc0)\n",
      "\n",
      "QObject::moveToThread: Current thread (0x5645c38a9fc0) is not the object's thread (0x5645cad2b0b0).\n",
      "Cannot move to target thread (0x5645c38a9fc0)\n",
      "\n",
      "QObject::moveToThread: Current thread (0x5645c38a9fc0) is not the object's thread (0x5645cad2b0b0).\n",
      "Cannot move to target thread (0x5645c38a9fc0)\n",
      "\n"
     ]
    }
   ],
   "source": [
    "\n",
    "while True: \n",
    "    ret, frame = cap.read()\n",
    "    image_np = np.array(frame)\n",
    "    #\n",
    "    input_tensor = tf.convert_to_tensor(np.expand_dims(image_np, 0), dtype=tf.float32)\n",
    "    detections = detect_fn(input_tensor)\n",
    "    \n",
    "    num_detections = int(detections.pop('num_detections'))\n",
    "    detections = {key: value[0, :num_detections].numpy()\n",
    "                  for key, value in detections.items()}\n",
    "    detections['num_detections'] = num_detections\n",
    "\n",
    "    # detection_classes should be ints.\n",
    "    detections['detection_classes'] = detections['detection_classes'].astype(np.int64)\n",
    "\n",
    "    label_id_offset = 1\n",
    "    image_np_with_detections = image_np.copy()\n",
    "\n",
    "    viz_utils.visualize_boxes_and_labels_on_image_array(\n",
    "                image_np_with_detections,\n",
    "                detections['detection_boxes'],\n",
    "                detections['detection_classes']+label_id_offset,\n",
    "                detections['detection_scores'],\n",
    "                category_index,\n",
    "                use_normalized_coordinates=True,\n",
    "                max_boxes_to_draw=5,\n",
    "                min_score_thresh=.7,\n",
    "                agnostic_mode=False)\n",
    "    #\n",
    "    cv2.imshow('object detection',  cv2.resize(image_np_with_detections, (800, 600)))\n",
    "    \n",
    "    if cv2.waitKey(10) & 0xFF == ord('q'):\n",
    "        cap.release()\n",
    "        cv2.destroyAllWindows()\n",
    "        break"
   ]
  },
  {
   "cell_type": "markdown",
   "metadata": {
    "id": "rzlM4jt0pfDJ"
   },
   "source": [
    "# 10. Freezing the Graph"
   ]
  },
  {
   "cell_type": "code",
   "execution_count": 19,
   "metadata": {
    "id": "n4olHB2npfDJ"
   },
   "outputs": [],
   "source": [
    "FREEZE_SCRIPT = os.path.join(paths['APIMODEL_PATH'], 'research', 'object_detection', 'exporter_main_v2.py ')"
   ]
  },
  {
   "cell_type": "code",
   "execution_count": 20,
   "metadata": {
    "id": "0AjO93QDpfDJ"
   },
   "outputs": [],
   "source": [
    "command = \"python {} --input_type=image_tensor --pipeline_config_path={} --trained_checkpoint_dir={} --output_directory={}\".format(FREEZE_SCRIPT ,files['PIPELINE_CONFIG'], paths['CHECKPOINT_PATH'], paths['OUTPUT_PATH'])"
   ]
  },
  {
   "cell_type": "code",
   "execution_count": 21,
   "metadata": {
    "colab": {
     "base_uri": "https://localhost:8080/"
    },
    "id": "F6Lsp3tCpfDJ",
    "outputId": "c3828529-bf06-4df5-d7f3-145890ec3edd"
   },
   "outputs": [
    {
     "name": "stdout",
     "output_type": "stream",
     "text": [
      "python Tensorflow/models/research/object_detection/exporter_main_v2.py  --input_type=image_tensor --pipeline_config_path=Tensorflow/workspace/models/my_ssd_mobnet/pipeline.config --trained_checkpoint_dir=Tensorflow/workspace/models/my_ssd_mobnet --output_directory=Tensorflow/workspace/models/my_ssd_mobnet/export\n"
     ]
    }
   ],
   "source": [
    "print(command)"
   ]
  },
  {
   "cell_type": "code",
   "execution_count": 22,
   "metadata": {
    "colab": {
     "base_uri": "https://localhost:8080/"
    },
    "id": "1Sw1ULgHpfDJ",
    "outputId": "6fd441e1-9fc9-4889-d072-3395c21e40b6",
    "scrolled": true
   },
   "outputs": [
    {
     "name": "stdout",
     "output_type": "stream",
     "text": [
      "2021-10-17 19:25:23.028648: I tensorflow/stream_executor/cuda/cuda_gpu_executor.cc:937] successful NUMA node read from SysFS had negative value (-1), but there must be at least one NUMA node, so returning NUMA node zero\n",
      "2021-10-17 19:25:23.041712: I tensorflow/stream_executor/cuda/cuda_gpu_executor.cc:937] successful NUMA node read from SysFS had negative value (-1), but there must be at least one NUMA node, so returning NUMA node zero\n",
      "2021-10-17 19:25:23.042185: I tensorflow/stream_executor/cuda/cuda_gpu_executor.cc:937] successful NUMA node read from SysFS had negative value (-1), but there must be at least one NUMA node, so returning NUMA node zero\n",
      "2021-10-17 19:25:23.058450: I tensorflow/core/platform/cpu_feature_guard.cc:142] This TensorFlow binary is optimized with oneAPI Deep Neural Network Library (oneDNN) to use the following CPU instructions in performance-critical operations:  AVX2 FMA\n",
      "To enable them in other operations, rebuild TensorFlow with the appropriate compiler flags.\n",
      "2021-10-17 19:25:23.061980: I tensorflow/stream_executor/cuda/cuda_gpu_executor.cc:937] successful NUMA node read from SysFS had negative value (-1), but there must be at least one NUMA node, so returning NUMA node zero\n",
      "2021-10-17 19:25:23.062746: I tensorflow/stream_executor/cuda/cuda_gpu_executor.cc:937] successful NUMA node read from SysFS had negative value (-1), but there must be at least one NUMA node, so returning NUMA node zero\n",
      "2021-10-17 19:25:23.063470: I tensorflow/stream_executor/cuda/cuda_gpu_executor.cc:937] successful NUMA node read from SysFS had negative value (-1), but there must be at least one NUMA node, so returning NUMA node zero\n",
      "2021-10-17 19:25:23.833659: I tensorflow/stream_executor/cuda/cuda_gpu_executor.cc:937] successful NUMA node read from SysFS had negative value (-1), but there must be at least one NUMA node, so returning NUMA node zero\n",
      "2021-10-17 19:25:23.834293: I tensorflow/stream_executor/cuda/cuda_gpu_executor.cc:937] successful NUMA node read from SysFS had negative value (-1), but there must be at least one NUMA node, so returning NUMA node zero\n",
      "2021-10-17 19:25:23.834802: I tensorflow/stream_executor/cuda/cuda_gpu_executor.cc:937] successful NUMA node read from SysFS had negative value (-1), but there must be at least one NUMA node, so returning NUMA node zero\n",
      "2021-10-17 19:25:23.835132: I tensorflow/core/common_runtime/gpu/gpu_device.cc:1510] Created device /job:localhost/replica:0/task:0/device:GPU:0 with 100 MB memory:  -> device: 0, name: NVIDIA GeForce GTX 1650 Ti, pci bus id: 0000:01:00.0, compute capability: 7.5\n",
      "WARNING:tensorflow:From /media/shivam/Data/ML_DL_NLP_etc/Tensorflow Object Detection/TFODCourse/tfod/lib/python3.8/site-packages/tensorflow/python/autograph/impl/api.py:463: calling map_fn_v2 (from tensorflow.python.ops.map_fn) with back_prop=False is deprecated and will be removed in a future version.\n",
      "Instructions for updating:\n",
      "back_prop=False is deprecated. Consider using tf.stop_gradient instead.\n",
      "Instead of:\n",
      "results = tf.map_fn(fn, elems, back_prop=False)\n",
      "Use:\n",
      "results = tf.nest.map_structure(tf.stop_gradient, tf.map_fn(fn, elems))\n",
      "W1017 19:25:24.772958 140673292089152 deprecation.py:611] From /media/shivam/Data/ML_DL_NLP_etc/Tensorflow Object Detection/TFODCourse/tfod/lib/python3.8/site-packages/tensorflow/python/autograph/impl/api.py:463: calling map_fn_v2 (from tensorflow.python.ops.map_fn) with back_prop=False is deprecated and will be removed in a future version.\n",
      "Instructions for updating:\n",
      "back_prop=False is deprecated. Consider using tf.stop_gradient instead.\n",
      "Instead of:\n",
      "results = tf.map_fn(fn, elems, back_prop=False)\n",
      "Use:\n",
      "results = tf.nest.map_structure(tf.stop_gradient, tf.map_fn(fn, elems))\n",
      "WARNING:tensorflow:Skipping full serialization of Keras layer <object_detection.meta_architectures.ssd_meta_arch.SSDMetaArch object at 0x7ff0102e29d0>, because it is not built.\n",
      "W1017 19:25:47.265722 140673292089152 save_impl.py:71] Skipping full serialization of Keras layer <object_detection.meta_architectures.ssd_meta_arch.SSDMetaArch object at 0x7ff0102e29d0>, because it is not built.\n",
      "WARNING:tensorflow:Skipping full serialization of Keras layer <keras.layers.convolutional.SeparableConv2D object at 0x7ff0102d15e0>, because it is not built.\n",
      "W1017 19:25:47.557429 140673292089152 save_impl.py:71] Skipping full serialization of Keras layer <keras.layers.convolutional.SeparableConv2D object at 0x7ff0102d15e0>, because it is not built.\n",
      "WARNING:tensorflow:Skipping full serialization of Keras layer <object_detection.core.freezable_batch_norm.FreezableBatchNorm object at 0x7fefa86bbbe0>, because it is not built.\n",
      "W1017 19:25:47.557694 140673292089152 save_impl.py:71] Skipping full serialization of Keras layer <object_detection.core.freezable_batch_norm.FreezableBatchNorm object at 0x7fefa86bbbe0>, because it is not built.\n",
      "WARNING:tensorflow:Skipping full serialization of Keras layer <keras.layers.core.Lambda object at 0x7fefa86ff070>, because it is not built.\n",
      "W1017 19:25:47.557771 140673292089152 save_impl.py:71] Skipping full serialization of Keras layer <keras.layers.core.Lambda object at 0x7fefa86ff070>, because it is not built.\n",
      "WARNING:tensorflow:Skipping full serialization of Keras layer <keras.layers.convolutional.SeparableConv2D object at 0x7fefa86ff310>, because it is not built.\n",
      "W1017 19:25:47.557844 140673292089152 save_impl.py:71] Skipping full serialization of Keras layer <keras.layers.convolutional.SeparableConv2D object at 0x7fefa86ff310>, because it is not built.\n",
      "WARNING:tensorflow:Skipping full serialization of Keras layer <object_detection.core.freezable_batch_norm.FreezableBatchNorm object at 0x7fefa86ffc40>, because it is not built.\n",
      "W1017 19:25:47.557913 140673292089152 save_impl.py:71] Skipping full serialization of Keras layer <object_detection.core.freezable_batch_norm.FreezableBatchNorm object at 0x7fefa86ffc40>, because it is not built.\n",
      "WARNING:tensorflow:Skipping full serialization of Keras layer <keras.layers.core.Lambda object at 0x7fefa8766df0>, because it is not built.\n",
      "W1017 19:25:47.557985 140673292089152 save_impl.py:71] Skipping full serialization of Keras layer <keras.layers.core.Lambda object at 0x7fefa8766df0>, because it is not built.\n",
      "WARNING:tensorflow:Skipping full serialization of Keras layer <keras.layers.convolutional.SeparableConv2D object at 0x7fefa86ffb80>, because it is not built.\n",
      "W1017 19:25:47.558052 140673292089152 save_impl.py:71] Skipping full serialization of Keras layer <keras.layers.convolutional.SeparableConv2D object at 0x7fefa86ffb80>, because it is not built.\n",
      "WARNING:tensorflow:Skipping full serialization of Keras layer <object_detection.core.freezable_batch_norm.FreezableBatchNorm object at 0x7fefa8799760>, because it is not built.\n",
      "W1017 19:25:47.558121 140673292089152 save_impl.py:71] Skipping full serialization of Keras layer <object_detection.core.freezable_batch_norm.FreezableBatchNorm object at 0x7fefa8799760>, because it is not built.\n",
      "WARNING:tensorflow:Skipping full serialization of Keras layer <keras.layers.core.Lambda object at 0x7fefa8799190>, because it is not built.\n",
      "W1017 19:25:47.558198 140673292089152 save_impl.py:71] Skipping full serialization of Keras layer <keras.layers.core.Lambda object at 0x7fefa8799190>, because it is not built.\n",
      "WARNING:tensorflow:Skipping full serialization of Keras layer <keras.layers.convolutional.SeparableConv2D object at 0x7fefa8799dc0>, because it is not built.\n",
      "W1017 19:25:47.558264 140673292089152 save_impl.py:71] Skipping full serialization of Keras layer <keras.layers.convolutional.SeparableConv2D object at 0x7fefa8799dc0>, because it is not built.\n",
      "WARNING:tensorflow:Skipping full serialization of Keras layer <object_detection.core.freezable_batch_norm.FreezableBatchNorm object at 0x7fefa8709760>, because it is not built.\n",
      "W1017 19:25:47.558330 140673292089152 save_impl.py:71] Skipping full serialization of Keras layer <object_detection.core.freezable_batch_norm.FreezableBatchNorm object at 0x7fefa8709760>, because it is not built.\n",
      "WARNING:tensorflow:Skipping full serialization of Keras layer <keras.layers.core.Lambda object at 0x7fefa8709610>, because it is not built.\n",
      "W1017 19:25:47.558396 140673292089152 save_impl.py:71] Skipping full serialization of Keras layer <keras.layers.core.Lambda object at 0x7fefa8709610>, because it is not built.\n",
      "WARNING:tensorflow:Skipping full serialization of Keras layer <object_detection.core.freezable_batch_norm.FreezableBatchNorm object at 0x7ff0102d1e50>, because it is not built.\n",
      "W1017 19:25:47.558463 140673292089152 save_impl.py:71] Skipping full serialization of Keras layer <object_detection.core.freezable_batch_norm.FreezableBatchNorm object at 0x7ff0102d1e50>, because it is not built.\n",
      "WARNING:tensorflow:Skipping full serialization of Keras layer <keras.layers.core.Lambda object at 0x7fefa86f8640>, because it is not built.\n",
      "W1017 19:25:47.558528 140673292089152 save_impl.py:71] Skipping full serialization of Keras layer <keras.layers.core.Lambda object at 0x7fefa86f8640>, because it is not built.\n",
      "WARNING:tensorflow:Skipping full serialization of Keras layer <object_detection.core.freezable_batch_norm.FreezableBatchNorm object at 0x7fefa86df400>, because it is not built.\n",
      "W1017 19:25:47.558593 140673292089152 save_impl.py:71] Skipping full serialization of Keras layer <object_detection.core.freezable_batch_norm.FreezableBatchNorm object at 0x7fefa86df400>, because it is not built.\n",
      "WARNING:tensorflow:Skipping full serialization of Keras layer <keras.layers.core.Lambda object at 0x7fefa86df5b0>, because it is not built.\n",
      "W1017 19:25:47.558663 140673292089152 save_impl.py:71] Skipping full serialization of Keras layer <keras.layers.core.Lambda object at 0x7fefa86df5b0>, because it is not built.\n",
      "WARNING:tensorflow:Skipping full serialization of Keras layer <object_detection.core.freezable_batch_norm.FreezableBatchNorm object at 0x7fefa86dfc70>, because it is not built.\n",
      "W1017 19:25:47.558732 140673292089152 save_impl.py:71] Skipping full serialization of Keras layer <object_detection.core.freezable_batch_norm.FreezableBatchNorm object at 0x7fefa86dfc70>, because it is not built.\n",
      "WARNING:tensorflow:Skipping full serialization of Keras layer <keras.layers.core.Lambda object at 0x7fefa86df550>, because it is not built.\n",
      "W1017 19:25:47.558799 140673292089152 save_impl.py:71] Skipping full serialization of Keras layer <keras.layers.core.Lambda object at 0x7fefa86df550>, because it is not built.\n",
      "WARNING:tensorflow:Skipping full serialization of Keras layer <object_detection.core.freezable_batch_norm.FreezableBatchNorm object at 0x7fefa86df9a0>, because it is not built.\n",
      "W1017 19:25:47.558867 140673292089152 save_impl.py:71] Skipping full serialization of Keras layer <object_detection.core.freezable_batch_norm.FreezableBatchNorm object at 0x7fefa86df9a0>, because it is not built.\n",
      "WARNING:tensorflow:Skipping full serialization of Keras layer <keras.layers.core.Lambda object at 0x7fefa86dfbb0>, because it is not built.\n",
      "W1017 19:25:47.558935 140673292089152 save_impl.py:71] Skipping full serialization of Keras layer <keras.layers.core.Lambda object at 0x7fefa86dfbb0>, because it is not built.\n",
      "WARNING:tensorflow:Skipping full serialization of Keras layer <object_detection.core.freezable_batch_norm.FreezableBatchNorm object at 0x7ff0102d1e80>, because it is not built.\n",
      "W1017 19:25:47.559002 140673292089152 save_impl.py:71] Skipping full serialization of Keras layer <object_detection.core.freezable_batch_norm.FreezableBatchNorm object at 0x7ff0102d1e80>, because it is not built.\n",
      "WARNING:tensorflow:Skipping full serialization of Keras layer <keras.layers.core.Lambda object at 0x7fefa867adf0>, because it is not built.\n",
      "W1017 19:25:47.559087 140673292089152 save_impl.py:71] Skipping full serialization of Keras layer <keras.layers.core.Lambda object at 0x7fefa867adf0>, because it is not built.\n",
      "WARNING:tensorflow:Skipping full serialization of Keras layer <object_detection.core.freezable_batch_norm.FreezableBatchNorm object at 0x7fefa86e7f10>, because it is not built.\n",
      "W1017 19:25:47.559156 140673292089152 save_impl.py:71] Skipping full serialization of Keras layer <object_detection.core.freezable_batch_norm.FreezableBatchNorm object at 0x7fefa86e7f10>, because it is not built.\n",
      "WARNING:tensorflow:Skipping full serialization of Keras layer <keras.layers.core.Lambda object at 0x7fefa86e72b0>, because it is not built.\n",
      "W1017 19:25:47.559224 140673292089152 save_impl.py:71] Skipping full serialization of Keras layer <keras.layers.core.Lambda object at 0x7fefa86e72b0>, because it is not built.\n",
      "WARNING:tensorflow:Skipping full serialization of Keras layer <object_detection.core.freezable_batch_norm.FreezableBatchNorm object at 0x7fefb0239c10>, because it is not built.\n",
      "W1017 19:25:47.559291 140673292089152 save_impl.py:71] Skipping full serialization of Keras layer <object_detection.core.freezable_batch_norm.FreezableBatchNorm object at 0x7fefb0239c10>, because it is not built.\n",
      "WARNING:tensorflow:Skipping full serialization of Keras layer <keras.layers.core.Lambda object at 0x7fefb0239940>, because it is not built.\n",
      "W1017 19:25:47.559358 140673292089152 save_impl.py:71] Skipping full serialization of Keras layer <keras.layers.core.Lambda object at 0x7fefb0239940>, because it is not built.\n",
      "WARNING:tensorflow:Skipping full serialization of Keras layer <object_detection.core.freezable_batch_norm.FreezableBatchNorm object at 0x7fefa86c5820>, because it is not built.\n",
      "W1017 19:25:47.559430 140673292089152 save_impl.py:71] Skipping full serialization of Keras layer <object_detection.core.freezable_batch_norm.FreezableBatchNorm object at 0x7fefa86c5820>, because it is not built.\n",
      "WARNING:tensorflow:Skipping full serialization of Keras layer <keras.layers.core.Lambda object at 0x7fefa86c5a60>, because it is not built.\n",
      "W1017 19:25:47.559498 140673292089152 save_impl.py:71] Skipping full serialization of Keras layer <keras.layers.core.Lambda object at 0x7fefa86c5a60>, because it is not built.\n",
      "WARNING:tensorflow:Skipping full serialization of Keras layer <object_detection.core.freezable_batch_norm.FreezableBatchNorm object at 0x7ff0102d1eb0>, because it is not built.\n",
      "W1017 19:25:47.559565 140673292089152 save_impl.py:71] Skipping full serialization of Keras layer <object_detection.core.freezable_batch_norm.FreezableBatchNorm object at 0x7ff0102d1eb0>, because it is not built.\n",
      "WARNING:tensorflow:Skipping full serialization of Keras layer <keras.layers.core.Lambda object at 0x7fefa876fd90>, because it is not built.\n",
      "W1017 19:25:47.559632 140673292089152 save_impl.py:71] Skipping full serialization of Keras layer <keras.layers.core.Lambda object at 0x7fefa876fd90>, because it is not built.\n",
      "WARNING:tensorflow:Skipping full serialization of Keras layer <object_detection.core.freezable_batch_norm.FreezableBatchNorm object at 0x7fefa86d44f0>, because it is not built.\n",
      "W1017 19:25:47.559700 140673292089152 save_impl.py:71] Skipping full serialization of Keras layer <object_detection.core.freezable_batch_norm.FreezableBatchNorm object at 0x7fefa86d44f0>, because it is not built.\n",
      "WARNING:tensorflow:Skipping full serialization of Keras layer <keras.layers.core.Lambda object at 0x7fefa86d45e0>, because it is not built.\n",
      "W1017 19:25:47.559767 140673292089152 save_impl.py:71] Skipping full serialization of Keras layer <keras.layers.core.Lambda object at 0x7fefa86d45e0>, because it is not built.\n",
      "WARNING:tensorflow:Skipping full serialization of Keras layer <object_detection.core.freezable_batch_norm.FreezableBatchNorm object at 0x7fefa86d4820>, because it is not built.\n",
      "W1017 19:25:47.559835 140673292089152 save_impl.py:71] Skipping full serialization of Keras layer <object_detection.core.freezable_batch_norm.FreezableBatchNorm object at 0x7fefa86d4820>, because it is not built.\n",
      "WARNING:tensorflow:Skipping full serialization of Keras layer <keras.layers.core.Lambda object at 0x7fefa86d4940>, because it is not built.\n",
      "W1017 19:25:47.559902 140673292089152 save_impl.py:71] Skipping full serialization of Keras layer <keras.layers.core.Lambda object at 0x7fefa86d4940>, because it is not built.\n",
      "WARNING:tensorflow:Skipping full serialization of Keras layer <object_detection.core.freezable_batch_norm.FreezableBatchNorm object at 0x7fefa86d4970>, because it is not built.\n",
      "W1017 19:25:47.559969 140673292089152 save_impl.py:71] Skipping full serialization of Keras layer <object_detection.core.freezable_batch_norm.FreezableBatchNorm object at 0x7fefa86d4970>, because it is not built.\n",
      "WARNING:tensorflow:Skipping full serialization of Keras layer <keras.layers.core.Lambda object at 0x7fefa86d49a0>, because it is not built.\n",
      "W1017 19:25:47.560039 140673292089152 save_impl.py:71] Skipping full serialization of Keras layer <keras.layers.core.Lambda object at 0x7fefa86d49a0>, because it is not built.\n",
      "WARNING:tensorflow:Skipping full serialization of Keras layer <object_detection.core.freezable_batch_norm.FreezableBatchNorm object at 0x7fefa86d9820>, because it is not built.\n",
      "W1017 19:25:47.560106 140673292089152 save_impl.py:71] Skipping full serialization of Keras layer <object_detection.core.freezable_batch_norm.FreezableBatchNorm object at 0x7fefa86d9820>, because it is not built.\n",
      "WARNING:tensorflow:Skipping full serialization of Keras layer <keras.layers.core.Lambda object at 0x7fefa86d9fd0>, because it is not built.\n",
      "W1017 19:25:47.560173 140673292089152 save_impl.py:71] Skipping full serialization of Keras layer <keras.layers.core.Lambda object at 0x7fefa86d9fd0>, because it is not built.\n",
      "WARNING:tensorflow:Skipping full serialization of Keras layer <object_detection.core.freezable_batch_norm.FreezableBatchNorm object at 0x7fefb03f3fa0>, because it is not built.\n",
      "W1017 19:25:47.560241 140673292089152 save_impl.py:71] Skipping full serialization of Keras layer <object_detection.core.freezable_batch_norm.FreezableBatchNorm object at 0x7fefb03f3fa0>, because it is not built.\n",
      "WARNING:tensorflow:Skipping full serialization of Keras layer <keras.layers.core.Lambda object at 0x7fefb03f3f40>, because it is not built.\n",
      "W1017 19:25:47.560308 140673292089152 save_impl.py:71] Skipping full serialization of Keras layer <keras.layers.core.Lambda object at 0x7fefb03f3f40>, because it is not built.\n",
      "WARNING:tensorflow:Skipping full serialization of Keras layer <object_detection.core.freezable_batch_norm.FreezableBatchNorm object at 0x7ff0101863d0>, because it is not built.\n",
      "W1017 19:25:47.560376 140673292089152 save_impl.py:71] Skipping full serialization of Keras layer <object_detection.core.freezable_batch_norm.FreezableBatchNorm object at 0x7ff0101863d0>, because it is not built.\n",
      "WARNING:tensorflow:Skipping full serialization of Keras layer <keras.layers.core.Lambda object at 0x7fefb00aac40>, because it is not built.\n",
      "W1017 19:25:47.560444 140673292089152 save_impl.py:71] Skipping full serialization of Keras layer <keras.layers.core.Lambda object at 0x7fefb00aac40>, because it is not built.\n",
      "WARNING:tensorflow:Skipping full serialization of Keras layer <object_detection.core.freezable_batch_norm.FreezableBatchNorm object at 0x7fefb0321850>, because it is not built.\n",
      "W1017 19:25:47.560510 140673292089152 save_impl.py:71] Skipping full serialization of Keras layer <object_detection.core.freezable_batch_norm.FreezableBatchNorm object at 0x7fefb0321850>, because it is not built.\n",
      "WARNING:tensorflow:Skipping full serialization of Keras layer <keras.layers.core.Lambda object at 0x7fefb03218e0>, because it is not built.\n",
      "W1017 19:25:47.560581 140673292089152 save_impl.py:71] Skipping full serialization of Keras layer <keras.layers.core.Lambda object at 0x7fefb03218e0>, because it is not built.\n"
     ]
    },
    {
     "name": "stdout",
     "output_type": "stream",
     "text": [
      "2021-10-17 19:25:55.804550: W tensorflow/python/util/util.cc:348] Sets are not currently considered sequences, but this may change in the future, so consider avoiding using them.\n",
      "W1017 19:26:12.733546 140673292089152 save.py:249] Found untraced functions such as WeightSharedConvolutionalBoxPredictor_layer_call_and_return_conditional_losses, WeightSharedConvolutionalBoxPredictor_layer_call_fn, WeightSharedConvolutionalBoxHead_layer_call_and_return_conditional_losses, WeightSharedConvolutionalBoxHead_layer_call_fn, WeightSharedConvolutionalBoxPredictor_layer_call_fn while saving (showing 5 of 260). These functions will not be directly callable after loading.\n",
      "INFO:tensorflow:Assets written to: Tensorflow/workspace/models/my_ssd_mobnet/export/saved_model/assets\n",
      "I1017 19:26:18.206673 140673292089152 builder_impl.py:780] Assets written to: Tensorflow/workspace/models/my_ssd_mobnet/export/saved_model/assets\n",
      "INFO:tensorflow:Writing pipeline config file to Tensorflow/workspace/models/my_ssd_mobnet/export/pipeline.config\n",
      "I1017 19:26:19.066688 140673292089152 config_util.py:253] Writing pipeline config file to Tensorflow/workspace/models/my_ssd_mobnet/export/pipeline.config\n"
     ]
    }
   ],
   "source": [
    "!{command}"
   ]
  },
  {
   "cell_type": "markdown",
   "metadata": {
    "id": "wTPmdqaXpfDK"
   },
   "source": [
    "# 11. Conversion to TFJS"
   ]
  },
  {
   "cell_type": "code",
   "execution_count": 23,
   "metadata": {
    "colab": {
     "base_uri": "https://localhost:8080/"
    },
    "id": "gZ6UzY_fpfDK",
    "outputId": "0c84722e-1c2b-4002-d857-80827ade828a",
    "scrolled": true
   },
   "outputs": [
    {
     "name": "stdout",
     "output_type": "stream",
     "text": [
      "Collecting tensorflowjs\n",
      "  Downloading tensorflowjs-3.9.0-py3-none-any.whl (64 kB)\n",
      "     |████████████████████████████████| 64 kB 276 kB/s            \n",
      "\u001b[?25hRequirement already satisfied: six<2,>=1.12.0 in ./tfod/lib/python3.8/site-packages (from tensorflowjs) (1.15.0)\n",
      "Requirement already satisfied: tensorflow<3,>=2.1.0 in ./tfod/lib/python3.8/site-packages (from tensorflowjs) (2.6.0)\n",
      "Requirement already satisfied: tensorflow-hub<0.13,>=0.7.0 in ./tfod/lib/python3.8/site-packages (from tensorflowjs) (0.12.0)\n",
      "Requirement already satisfied: protobuf>=3.9.2 in ./tfod/lib/python3.8/site-packages (from tensorflow<3,>=2.1.0->tensorflowjs) (3.18.1)\n",
      "Requirement already satisfied: typing-extensions~=3.7.4 in ./tfod/lib/python3.8/site-packages (from tensorflow<3,>=2.1.0->tensorflowjs) (3.7.4.3)\n",
      "Requirement already satisfied: tensorflow-estimator~=2.6 in ./tfod/lib/python3.8/site-packages (from tensorflow<3,>=2.1.0->tensorflowjs) (2.6.0)\n",
      "Requirement already satisfied: opt-einsum~=3.3.0 in ./tfod/lib/python3.8/site-packages (from tensorflow<3,>=2.1.0->tensorflowjs) (3.3.0)\n",
      "Requirement already satisfied: termcolor~=1.1.0 in ./tfod/lib/python3.8/site-packages (from tensorflow<3,>=2.1.0->tensorflowjs) (1.1.0)\n",
      "Requirement already satisfied: keras-preprocessing~=1.1.2 in ./tfod/lib/python3.8/site-packages (from tensorflow<3,>=2.1.0->tensorflowjs) (1.1.2)\n",
      "Requirement already satisfied: h5py~=3.1.0 in ./tfod/lib/python3.8/site-packages (from tensorflow<3,>=2.1.0->tensorflowjs) (3.1.0)\n",
      "Requirement already satisfied: astunparse~=1.6.3 in ./tfod/lib/python3.8/site-packages (from tensorflow<3,>=2.1.0->tensorflowjs) (1.6.3)\n",
      "Requirement already satisfied: grpcio<2.0,>=1.37.0 in ./tfod/lib/python3.8/site-packages (from tensorflow<3,>=2.1.0->tensorflowjs) (1.41.0)\n",
      "Requirement already satisfied: gast==0.4.0 in ./tfod/lib/python3.8/site-packages (from tensorflow<3,>=2.1.0->tensorflowjs) (0.4.0)\n",
      "Requirement already satisfied: tensorboard~=2.6 in ./tfod/lib/python3.8/site-packages (from tensorflow<3,>=2.1.0->tensorflowjs) (2.7.0)\n",
      "Requirement already satisfied: clang~=5.0 in ./tfod/lib/python3.8/site-packages (from tensorflow<3,>=2.1.0->tensorflowjs) (5.0)\n",
      "Requirement already satisfied: keras~=2.6 in ./tfod/lib/python3.8/site-packages (from tensorflow<3,>=2.1.0->tensorflowjs) (2.6.0)\n",
      "Requirement already satisfied: absl-py~=0.10 in ./tfod/lib/python3.8/site-packages (from tensorflow<3,>=2.1.0->tensorflowjs) (0.12.0)\n",
      "Requirement already satisfied: google-pasta~=0.2 in ./tfod/lib/python3.8/site-packages (from tensorflow<3,>=2.1.0->tensorflowjs) (0.2.0)\n",
      "Requirement already satisfied: wheel~=0.35 in ./tfod/lib/python3.8/site-packages (from tensorflow<3,>=2.1.0->tensorflowjs) (0.37.0)\n",
      "Requirement already satisfied: numpy~=1.19.2 in ./tfod/lib/python3.8/site-packages (from tensorflow<3,>=2.1.0->tensorflowjs) (1.19.5)\n",
      "Requirement already satisfied: wrapt~=1.12.1 in ./tfod/lib/python3.8/site-packages (from tensorflow<3,>=2.1.0->tensorflowjs) (1.12.1)\n",
      "Requirement already satisfied: flatbuffers~=1.12.0 in ./tfod/lib/python3.8/site-packages (from tensorflow<3,>=2.1.0->tensorflowjs) (1.12)\n",
      "Requirement already satisfied: werkzeug>=0.11.15 in ./tfod/lib/python3.8/site-packages (from tensorboard~=2.6->tensorflow<3,>=2.1.0->tensorflowjs) (2.0.2)\n",
      "Requirement already satisfied: setuptools>=41.0.0 in ./tfod/lib/python3.8/site-packages (from tensorboard~=2.6->tensorflow<3,>=2.1.0->tensorflowjs) (49.2.1)\n",
      "Requirement already satisfied: tensorboard-plugin-wit>=1.6.0 in ./tfod/lib/python3.8/site-packages (from tensorboard~=2.6->tensorflow<3,>=2.1.0->tensorflowjs) (1.8.0)\n",
      "Requirement already satisfied: google-auth<3,>=1.6.3 in ./tfod/lib/python3.8/site-packages (from tensorboard~=2.6->tensorflow<3,>=2.1.0->tensorflowjs) (2.3.0)\n",
      "Requirement already satisfied: tensorboard-data-server<0.7.0,>=0.6.0 in ./tfod/lib/python3.8/site-packages (from tensorboard~=2.6->tensorflow<3,>=2.1.0->tensorflowjs) (0.6.1)\n",
      "Requirement already satisfied: markdown>=2.6.8 in ./tfod/lib/python3.8/site-packages (from tensorboard~=2.6->tensorflow<3,>=2.1.0->tensorflowjs) (3.3.4)\n",
      "Requirement already satisfied: google-auth-oauthlib<0.5,>=0.4.1 in ./tfod/lib/python3.8/site-packages (from tensorboard~=2.6->tensorflow<3,>=2.1.0->tensorflowjs) (0.4.6)\n",
      "Requirement already satisfied: requests<3,>=2.21.0 in ./tfod/lib/python3.8/site-packages (from tensorboard~=2.6->tensorflow<3,>=2.1.0->tensorflowjs) (2.26.0)\n",
      "Requirement already satisfied: rsa<5,>=3.1.4 in ./tfod/lib/python3.8/site-packages (from google-auth<3,>=1.6.3->tensorboard~=2.6->tensorflow<3,>=2.1.0->tensorflowjs) (4.7.2)\n",
      "Requirement already satisfied: cachetools<5.0,>=2.0.0 in ./tfod/lib/python3.8/site-packages (from google-auth<3,>=1.6.3->tensorboard~=2.6->tensorflow<3,>=2.1.0->tensorflowjs) (4.2.4)\n",
      "Requirement already satisfied: pyasn1-modules>=0.2.1 in ./tfod/lib/python3.8/site-packages (from google-auth<3,>=1.6.3->tensorboard~=2.6->tensorflow<3,>=2.1.0->tensorflowjs) (0.2.8)\n",
      "Requirement already satisfied: requests-oauthlib>=0.7.0 in ./tfod/lib/python3.8/site-packages (from google-auth-oauthlib<0.5,>=0.4.1->tensorboard~=2.6->tensorflow<3,>=2.1.0->tensorflowjs) (1.3.0)\n",
      "Requirement already satisfied: urllib3<1.27,>=1.21.1 in ./tfod/lib/python3.8/site-packages (from requests<3,>=2.21.0->tensorboard~=2.6->tensorflow<3,>=2.1.0->tensorflowjs) (1.26.7)\n",
      "Requirement already satisfied: certifi>=2017.4.17 in ./tfod/lib/python3.8/site-packages (from requests<3,>=2.21.0->tensorboard~=2.6->tensorflow<3,>=2.1.0->tensorflowjs) (2021.10.8)\n",
      "Requirement already satisfied: charset-normalizer~=2.0.0 in ./tfod/lib/python3.8/site-packages (from requests<3,>=2.21.0->tensorboard~=2.6->tensorflow<3,>=2.1.0->tensorflowjs) (2.0.7)\n",
      "Requirement already satisfied: idna<4,>=2.5 in ./tfod/lib/python3.8/site-packages (from requests<3,>=2.21.0->tensorboard~=2.6->tensorflow<3,>=2.1.0->tensorflowjs) (3.3)\n",
      "Requirement already satisfied: pyasn1<0.5.0,>=0.4.6 in ./tfod/lib/python3.8/site-packages (from pyasn1-modules>=0.2.1->google-auth<3,>=1.6.3->tensorboard~=2.6->tensorflow<3,>=2.1.0->tensorflowjs) (0.4.8)\n",
      "Requirement already satisfied: oauthlib>=3.0.0 in ./tfod/lib/python3.8/site-packages (from requests-oauthlib>=0.7.0->google-auth-oauthlib<0.5,>=0.4.1->tensorboard~=2.6->tensorflow<3,>=2.1.0->tensorflowjs) (3.1.1)\n",
      "Installing collected packages: tensorflowjs\n",
      "Successfully installed tensorflowjs-3.9.0\n"
     ]
    }
   ],
   "source": [
    "!pip install tensorflowjs"
   ]
  },
  {
   "cell_type": "code",
   "execution_count": 24,
   "metadata": {
    "id": "0oxbVynHpfDK"
   },
   "outputs": [],
   "source": [
    "command = \"tensorflowjs_converter --input_format=tf_saved_model --output_node_names='detection_boxes,detection_classes,detection_features,detection_multiclass_scores,detection_scores,num_detections,raw_detection_boxes,raw_detection_scores' --output_format=tfjs_graph_model --signature_name=serving_default {} {}\".format(os.path.join(paths['OUTPUT_PATH'], 'saved_model'), paths['TFJS_PATH'])"
   ]
  },
  {
   "cell_type": "code",
   "execution_count": 25,
   "metadata": {
    "colab": {
     "base_uri": "https://localhost:8080/"
    },
    "id": "DB2AGNmJpfDK",
    "outputId": "fbc9f747-f511-47e8-df8f-5ea65cef0374"
   },
   "outputs": [
    {
     "name": "stdout",
     "output_type": "stream",
     "text": [
      "tensorflowjs_converter --input_format=tf_saved_model --output_node_names='detection_boxes,detection_classes,detection_features,detection_multiclass_scores,detection_scores,num_detections,raw_detection_boxes,raw_detection_scores' --output_format=tfjs_graph_model --signature_name=serving_default Tensorflow/workspace/models/my_ssd_mobnet/export/saved_model Tensorflow/workspace/models/my_ssd_mobnet/tfjsexport\n"
     ]
    }
   ],
   "source": [
    "print(command)"
   ]
  },
  {
   "cell_type": "code",
   "execution_count": 26,
   "metadata": {
    "colab": {
     "base_uri": "https://localhost:8080/"
    },
    "id": "K7rfT4-hpfDK",
    "outputId": "532707fd-6feb-4bc6-84a3-325b5d16303c",
    "scrolled": true
   },
   "outputs": [
    {
     "name": "stdout",
     "output_type": "stream",
     "text": [
      "2021-10-17 19:27:52.877008: I tensorflow/stream_executor/cuda/cuda_gpu_executor.cc:937] successful NUMA node read from SysFS had negative value (-1), but there must be at least one NUMA node, so returning NUMA node zero\n",
      "2021-10-17 19:27:52.904987: I tensorflow/stream_executor/cuda/cuda_gpu_executor.cc:937] successful NUMA node read from SysFS had negative value (-1), but there must be at least one NUMA node, so returning NUMA node zero\n",
      "2021-10-17 19:27:52.905736: I tensorflow/stream_executor/cuda/cuda_gpu_executor.cc:937] successful NUMA node read from SysFS had negative value (-1), but there must be at least one NUMA node, so returning NUMA node zero\n",
      "2021-10-17 19:27:52.906757: I tensorflow/core/platform/cpu_feature_guard.cc:142] This TensorFlow binary is optimized with oneAPI Deep Neural Network Library (oneDNN) to use the following CPU instructions in performance-critical operations:  AVX2 FMA\n",
      "To enable them in other operations, rebuild TensorFlow with the appropriate compiler flags.\n",
      "2021-10-17 19:27:52.910662: I tensorflow/stream_executor/cuda/cuda_gpu_executor.cc:937] successful NUMA node read from SysFS had negative value (-1), but there must be at least one NUMA node, so returning NUMA node zero\n",
      "2021-10-17 19:27:52.911682: I tensorflow/stream_executor/cuda/cuda_gpu_executor.cc:937] successful NUMA node read from SysFS had negative value (-1), but there must be at least one NUMA node, so returning NUMA node zero\n",
      "2021-10-17 19:27:52.912264: I tensorflow/stream_executor/cuda/cuda_gpu_executor.cc:937] successful NUMA node read from SysFS had negative value (-1), but there must be at least one NUMA node, so returning NUMA node zero\n",
      "2021-10-17 19:27:53.630251: I tensorflow/stream_executor/cuda/cuda_gpu_executor.cc:937] successful NUMA node read from SysFS had negative value (-1), but there must be at least one NUMA node, so returning NUMA node zero\n",
      "2021-10-17 19:27:53.630655: I tensorflow/stream_executor/cuda/cuda_gpu_executor.cc:937] successful NUMA node read from SysFS had negative value (-1), but there must be at least one NUMA node, so returning NUMA node zero\n",
      "2021-10-17 19:27:53.630941: I tensorflow/stream_executor/cuda/cuda_gpu_executor.cc:937] successful NUMA node read from SysFS had negative value (-1), but there must be at least one NUMA node, so returning NUMA node zero\n",
      "2021-10-17 19:27:53.631227: I tensorflow/core/common_runtime/gpu/gpu_device.cc:1510] Created device /job:localhost/replica:0/task:0/device:GPU:0 with 98 MB memory:  -> device: 0, name: NVIDIA GeForce GTX 1650 Ti, pci bus id: 0000:01:00.0, compute capability: 7.5\n",
      "2021-10-17 19:28:04.564611: I tensorflow/stream_executor/cuda/cuda_gpu_executor.cc:937] successful NUMA node read from SysFS had negative value (-1), but there must be at least one NUMA node, so returning NUMA node zero\n",
      "2021-10-17 19:28:04.565171: I tensorflow/core/grappler/devices.cc:66] Number of eligible GPUs (core count >= 8, compute capability >= 0.0): 1\n",
      "2021-10-17 19:28:04.565544: I tensorflow/core/grappler/clusters/single_machine.cc:357] Starting new session\n",
      "2021-10-17 19:28:04.580452: I tensorflow/stream_executor/cuda/cuda_gpu_executor.cc:937] successful NUMA node read from SysFS had negative value (-1), but there must be at least one NUMA node, so returning NUMA node zero\n",
      "2021-10-17 19:28:04.581323: I tensorflow/stream_executor/cuda/cuda_gpu_executor.cc:937] successful NUMA node read from SysFS had negative value (-1), but there must be at least one NUMA node, so returning NUMA node zero\n",
      "2021-10-17 19:28:04.582070: I tensorflow/stream_executor/cuda/cuda_gpu_executor.cc:937] successful NUMA node read from SysFS had negative value (-1), but there must be at least one NUMA node, so returning NUMA node zero\n",
      "2021-10-17 19:28:04.582925: I tensorflow/stream_executor/cuda/cuda_gpu_executor.cc:937] successful NUMA node read from SysFS had negative value (-1), but there must be at least one NUMA node, so returning NUMA node zero\n",
      "2021-10-17 19:28:04.583907: I tensorflow/stream_executor/cuda/cuda_gpu_executor.cc:937] successful NUMA node read from SysFS had negative value (-1), but there must be at least one NUMA node, so returning NUMA node zero\n",
      "2021-10-17 19:28:04.584349: I tensorflow/core/common_runtime/gpu/gpu_device.cc:1510] Created device /job:localhost/replica:0/task:0/device:GPU:0 with 98 MB memory:  -> device: 0, name: NVIDIA GeForce GTX 1650 Ti, pci bus id: 0000:01:00.0, compute capability: 7.5\n",
      "2021-10-17 19:28:05.258377: I tensorflow/core/grappler/optimizers/meta_optimizer.cc:1137] Optimization results for grappler item: graph_to_optimize\n",
      "  function_optimizer: Graph size after: 3843 nodes (3433), 5137 edges (4720), time = 331.412ms.\n",
      "  function_optimizer: function_optimizer did nothing. time = 5.757ms.\n",
      "\n",
      "2021-10-17 19:28:10.620667: I tensorflow/core/grappler/optimizers/meta_optimizer.cc:1137] Optimization results for grappler item: graph_to_optimize\n",
      "  debug_stripper: Graph size after: 3555 nodes (0), 4908 edges (0), time = 7.19ms.\n",
      "  model_pruner: Graph size after: 3112 nodes (-443), 4465 edges (-443), time = 173.308ms.\n",
      "  constant_folding: Graph size after: 1531 nodes (-1581), 2635 edges (-1830), time = 921.297ms.\n",
      "  arithmetic_optimizer: Graph size after: 1547 nodes (16), 2645 edges (10), time = 67.649ms.\n",
      "  dependency_optimizer: Graph size after: 1455 nodes (-92), 1648 edges (-997), time = 40.454ms.\n",
      "  model_pruner: Graph size after: 1455 nodes (0), 1648 edges (0), time = 24.002ms.\n",
      "  constant_folding: Graph size after: 1455 nodes (0), 1648 edges (0), time = 94.3ms.\n",
      "  arithmetic_optimizer: Graph size after: 1455 nodes (0), 1648 edges (0), time = 46.853ms.\n",
      "  dependency_optimizer: Graph size after: 1455 nodes (0), 1648 edges (0), time = 29.001ms.\n",
      "  debug_stripper: debug_stripper did nothing. time = 2.825ms.\n",
      "  model_pruner: Graph size after: 1455 nodes (0), 1648 edges (0), time = 14.96ms.\n",
      "  constant_folding: Graph size after: 1455 nodes (0), 1648 edges (0), time = 53.156ms.\n",
      "  arithmetic_optimizer: Graph size after: 1455 nodes (0), 1648 edges (0), time = 40.475ms.\n",
      "  dependency_optimizer: Graph size after: 1455 nodes (0), 1648 edges (0), time = 23.672ms.\n",
      "  model_pruner: Graph size after: 1455 nodes (0), 1648 edges (0), time = 15.176ms.\n",
      "  constant_folding: Graph size after: 1455 nodes (0), 1648 edges (0), time = 49.431ms.\n",
      "  arithmetic_optimizer: Graph size after: 1455 nodes (0), 1648 edges (0), time = 42.192ms.\n",
      "  dependency_optimizer: Graph size after: 1455 nodes (0), 1648 edges (0), time = 25.983ms.\n",
      "\n",
      "2021-10-17 19:28:19.423756: I tensorflow/core/grappler/optimizers/meta_optimizer.cc:1137] Optimization results for grappler item: graph_to_optimize\n",
      "  remapper: Graph size after: 1419 nodes (-112), 1308 edges (-112), time = 110.276ms.\n",
      "  constant_folding: Graph size after: 1115 nodes (-304), 1308 edges (0), time = 71.302ms.\n",
      "  arithmetic_optimizer: Graph size after: 1115 nodes (0), 1308 edges (0), time = 26.609ms.\n",
      "  dependency_optimizer: Graph size after: 1115 nodes (0), 1308 edges (0), time = 12.309ms.\n",
      "  remapper: Graph size after: 1115 nodes (0), 1308 edges (0), time = 7.794ms.\n",
      "  constant_folding: Graph size after: 1115 nodes (0), 1308 edges (0), time = 36.068ms.\n",
      "  arithmetic_optimizer: Graph size after: 1115 nodes (0), 1308 edges (0), time = 29.868ms.\n",
      "  dependency_optimizer: Graph size after: 1115 nodes (0), 1308 edges (0), time = 14.591ms.\n",
      "\n",
      "Writing weight file Tensorflow/workspace/models/my_ssd_mobnet/tfjsexport/model.json...\n"
     ]
    }
   ],
   "source": [
    "!{command}"
   ]
  },
  {
   "cell_type": "code",
   "execution_count": 27,
   "metadata": {
    "id": "o8_hm-itpfDK"
   },
   "outputs": [],
   "source": [
    "# Test Code: https://github.com/nicknochnack/RealTimeSignLanguageDetectionwithTFJS"
   ]
  },
  {
   "cell_type": "markdown",
   "metadata": {
    "id": "VtUw73FHpfDK"
   },
   "source": [
    "# 12. Conversion to TFLite"
   ]
  },
  {
   "cell_type": "code",
   "execution_count": 28,
   "metadata": {
    "id": "XviMtewLpfDK"
   },
   "outputs": [],
   "source": [
    "TFLITE_SCRIPT = os.path.join(paths['APIMODEL_PATH'], 'research', 'object_detection', 'export_tflite_graph_tf2.py ')"
   ]
  },
  {
   "cell_type": "code",
   "execution_count": 29,
   "metadata": {
    "id": "us86cjC4pfDL"
   },
   "outputs": [],
   "source": [
    "command = \"python {} --pipeline_config_path={} --trained_checkpoint_dir={} --output_directory={}\".format(TFLITE_SCRIPT ,files['PIPELINE_CONFIG'], paths['CHECKPOINT_PATH'], paths['TFLITE_PATH'])"
   ]
  },
  {
   "cell_type": "code",
   "execution_count": 30,
   "metadata": {
    "colab": {
     "base_uri": "https://localhost:8080/"
    },
    "id": "n1r5YO3rpfDL",
    "outputId": "5fcdf7a4-eee2-4365-f1ca-1751968379ea"
   },
   "outputs": [
    {
     "name": "stdout",
     "output_type": "stream",
     "text": [
      "python Tensorflow/models/research/object_detection/export_tflite_graph_tf2.py  --pipeline_config_path=Tensorflow/workspace/models/my_ssd_mobnet/pipeline.config --trained_checkpoint_dir=Tensorflow/workspace/models/my_ssd_mobnet --output_directory=Tensorflow/workspace/models/my_ssd_mobnet/tfliteexport\n"
     ]
    }
   ],
   "source": [
    "print(command)"
   ]
  },
  {
   "cell_type": "code",
   "execution_count": 31,
   "metadata": {
    "colab": {
     "base_uri": "https://localhost:8080/"
    },
    "id": "I-xWpHN8pfDL",
    "outputId": "7f6bacd8-d077-43b5-c131-5b081fba24a4",
    "scrolled": true
   },
   "outputs": [
    {
     "name": "stdout",
     "output_type": "stream",
     "text": [
      "2021-10-17 19:28:58.198961: I tensorflow/stream_executor/cuda/cuda_gpu_executor.cc:937] successful NUMA node read from SysFS had negative value (-1), but there must be at least one NUMA node, so returning NUMA node zero\n",
      "2021-10-17 19:28:58.213189: I tensorflow/stream_executor/cuda/cuda_gpu_executor.cc:937] successful NUMA node read from SysFS had negative value (-1), but there must be at least one NUMA node, so returning NUMA node zero\n",
      "2021-10-17 19:28:58.213678: I tensorflow/stream_executor/cuda/cuda_gpu_executor.cc:937] successful NUMA node read from SysFS had negative value (-1), but there must be at least one NUMA node, so returning NUMA node zero\n",
      "2021-10-17 19:28:58.238042: I tensorflow/core/platform/cpu_feature_guard.cc:142] This TensorFlow binary is optimized with oneAPI Deep Neural Network Library (oneDNN) to use the following CPU instructions in performance-critical operations:  AVX2 FMA\n",
      "To enable them in other operations, rebuild TensorFlow with the appropriate compiler flags.\n",
      "2021-10-17 19:28:58.241056: I tensorflow/stream_executor/cuda/cuda_gpu_executor.cc:937] successful NUMA node read from SysFS had negative value (-1), but there must be at least one NUMA node, so returning NUMA node zero\n",
      "2021-10-17 19:28:58.241689: I tensorflow/stream_executor/cuda/cuda_gpu_executor.cc:937] successful NUMA node read from SysFS had negative value (-1), but there must be at least one NUMA node, so returning NUMA node zero\n",
      "2021-10-17 19:28:58.242323: I tensorflow/stream_executor/cuda/cuda_gpu_executor.cc:937] successful NUMA node read from SysFS had negative value (-1), but there must be at least one NUMA node, so returning NUMA node zero\n",
      "2021-10-17 19:28:58.960011: I tensorflow/stream_executor/cuda/cuda_gpu_executor.cc:937] successful NUMA node read from SysFS had negative value (-1), but there must be at least one NUMA node, so returning NUMA node zero\n",
      "2021-10-17 19:28:58.960695: I tensorflow/stream_executor/cuda/cuda_gpu_executor.cc:937] successful NUMA node read from SysFS had negative value (-1), but there must be at least one NUMA node, so returning NUMA node zero\n",
      "2021-10-17 19:28:58.961188: I tensorflow/stream_executor/cuda/cuda_gpu_executor.cc:937] successful NUMA node read from SysFS had negative value (-1), but there must be at least one NUMA node, so returning NUMA node zero\n",
      "2021-10-17 19:28:58.961537: I tensorflow/core/common_runtime/gpu/gpu_device.cc:1510] Created device /job:localhost/replica:0/task:0/device:GPU:0 with 104 MB memory:  -> device: 0, name: NVIDIA GeForce GTX 1650 Ti, pci bus id: 0000:01:00.0, compute capability: 7.5\n",
      "2021-10-17 19:29:10.215653: I tensorflow/stream_executor/cuda/cuda_gpu_executor.cc:937] successful NUMA node read from SysFS had negative value (-1), but there must be at least one NUMA node, so returning NUMA node zero\n",
      "2021-10-17 19:29:10.216112: I tensorflow/stream_executor/cuda/cuda_gpu_executor.cc:937] successful NUMA node read from SysFS had negative value (-1), but there must be at least one NUMA node, so returning NUMA node zero\n",
      "2021-10-17 19:29:10.216388: I tensorflow/stream_executor/cuda/cuda_gpu_executor.cc:937] successful NUMA node read from SysFS had negative value (-1), but there must be at least one NUMA node, so returning NUMA node zero\n",
      "2021-10-17 19:29:10.216736: I tensorflow/stream_executor/cuda/cuda_gpu_executor.cc:937] successful NUMA node read from SysFS had negative value (-1), but there must be at least one NUMA node, so returning NUMA node zero\n",
      "2021-10-17 19:29:10.217013: I tensorflow/stream_executor/cuda/cuda_gpu_executor.cc:937] successful NUMA node read from SysFS had negative value (-1), but there must be at least one NUMA node, so returning NUMA node zero\n",
      "2021-10-17 19:29:10.217246: I tensorflow/core/common_runtime/gpu/gpu_device.cc:1510] Created device /job:localhost/replica:0/task:0/device:GPU:0 with 104 MB memory:  -> device: 0, name: NVIDIA GeForce GTX 1650 Ti, pci bus id: 0000:01:00.0, compute capability: 7.5\n",
      "2021-10-17 19:29:12.767089: I tensorflow/stream_executor/cuda/cuda_gpu_executor.cc:937] successful NUMA node read from SysFS had negative value (-1), but there must be at least one NUMA node, so returning NUMA node zero\n",
      "2021-10-17 19:29:12.767444: I tensorflow/stream_executor/cuda/cuda_gpu_executor.cc:937] successful NUMA node read from SysFS had negative value (-1), but there must be at least one NUMA node, so returning NUMA node zero\n",
      "2021-10-17 19:29:12.767690: I tensorflow/stream_executor/cuda/cuda_gpu_executor.cc:937] successful NUMA node read from SysFS had negative value (-1), but there must be at least one NUMA node, so returning NUMA node zero\n",
      "2021-10-17 19:29:12.767984: I tensorflow/stream_executor/cuda/cuda_gpu_executor.cc:937] successful NUMA node read from SysFS had negative value (-1), but there must be at least one NUMA node, so returning NUMA node zero\n",
      "2021-10-17 19:29:12.768236: I tensorflow/stream_executor/cuda/cuda_gpu_executor.cc:937] successful NUMA node read from SysFS had negative value (-1), but there must be at least one NUMA node, so returning NUMA node zero\n",
      "2021-10-17 19:29:12.768445: I tensorflow/core/common_runtime/gpu/gpu_device.cc:1510] Created device /job:localhost/replica:0/task:0/device:GPU:0 with 104 MB memory:  -> device: 0, name: NVIDIA GeForce GTX 1650 Ti, pci bus id: 0000:01:00.0, compute capability: 7.5\n",
      "WARNING:tensorflow:Skipping full serialization of Keras layer <object_detection.meta_architectures.ssd_meta_arch.SSDMetaArch object at 0x7f60772fd3d0>, because it is not built.\n",
      "W1017 19:29:13.611429 140056395458368 save_impl.py:71] Skipping full serialization of Keras layer <object_detection.meta_architectures.ssd_meta_arch.SSDMetaArch object at 0x7f60772fd3d0>, because it is not built.\n",
      "WARNING:tensorflow:Skipping full serialization of Keras layer <keras.layers.convolutional.SeparableConv2D object at 0x7f606c42c610>, because it is not built.\n",
      "W1017 19:29:13.833891 140056395458368 save_impl.py:71] Skipping full serialization of Keras layer <keras.layers.convolutional.SeparableConv2D object at 0x7f606c42c610>, because it is not built.\n",
      "WARNING:tensorflow:Skipping full serialization of Keras layer <object_detection.core.freezable_batch_norm.FreezableBatchNorm object at 0x7f6010065d60>, because it is not built.\n",
      "W1017 19:29:13.834064 140056395458368 save_impl.py:71] Skipping full serialization of Keras layer <object_detection.core.freezable_batch_norm.FreezableBatchNorm object at 0x7f6010065d60>, because it is not built.\n",
      "WARNING:tensorflow:Skipping full serialization of Keras layer <keras.layers.core.Lambda object at 0x7f60100ab2b0>, because it is not built.\n",
      "W1017 19:29:13.834145 140056395458368 save_impl.py:71] Skipping full serialization of Keras layer <keras.layers.core.Lambda object at 0x7f60100ab2b0>, because it is not built.\n",
      "WARNING:tensorflow:Skipping full serialization of Keras layer <keras.layers.convolutional.SeparableConv2D object at 0x7f60100ab0a0>, because it is not built.\n",
      "W1017 19:29:13.834218 140056395458368 save_impl.py:71] Skipping full serialization of Keras layer <keras.layers.convolutional.SeparableConv2D object at 0x7f60100ab0a0>, because it is not built.\n",
      "WARNING:tensorflow:Skipping full serialization of Keras layer <object_detection.core.freezable_batch_norm.FreezableBatchNorm object at 0x7f60100ab7f0>, because it is not built.\n",
      "W1017 19:29:13.834287 140056395458368 save_impl.py:71] Skipping full serialization of Keras layer <object_detection.core.freezable_batch_norm.FreezableBatchNorm object at 0x7f60100ab7f0>, because it is not built.\n",
      "WARNING:tensorflow:Skipping full serialization of Keras layer <keras.layers.core.Lambda object at 0x7f60100abaf0>, because it is not built.\n",
      "W1017 19:29:13.834355 140056395458368 save_impl.py:71] Skipping full serialization of Keras layer <keras.layers.core.Lambda object at 0x7f60100abaf0>, because it is not built.\n",
      "WARNING:tensorflow:Skipping full serialization of Keras layer <keras.layers.convolutional.SeparableConv2D object at 0x7f6010053310>, because it is not built.\n",
      "W1017 19:29:13.834424 140056395458368 save_impl.py:71] Skipping full serialization of Keras layer <keras.layers.convolutional.SeparableConv2D object at 0x7f6010053310>, because it is not built.\n",
      "WARNING:tensorflow:Skipping full serialization of Keras layer <object_detection.core.freezable_batch_norm.FreezableBatchNorm object at 0x7f6010053970>, because it is not built.\n",
      "W1017 19:29:13.834494 140056395458368 save_impl.py:71] Skipping full serialization of Keras layer <object_detection.core.freezable_batch_norm.FreezableBatchNorm object at 0x7f6010053970>, because it is not built.\n",
      "WARNING:tensorflow:Skipping full serialization of Keras layer <keras.layers.core.Lambda object at 0x7f60100539d0>, because it is not built.\n",
      "W1017 19:29:13.834565 140056395458368 save_impl.py:71] Skipping full serialization of Keras layer <keras.layers.core.Lambda object at 0x7f60100539d0>, because it is not built.\n",
      "WARNING:tensorflow:Skipping full serialization of Keras layer <keras.layers.convolutional.SeparableConv2D object at 0x7f6010053c70>, because it is not built.\n",
      "W1017 19:29:13.834637 140056395458368 save_impl.py:71] Skipping full serialization of Keras layer <keras.layers.convolutional.SeparableConv2D object at 0x7f6010053c70>, because it is not built.\n",
      "WARNING:tensorflow:Skipping full serialization of Keras layer <object_detection.core.freezable_batch_norm.FreezableBatchNorm object at 0x7f6010053e20>, because it is not built.\n",
      "W1017 19:29:13.834707 140056395458368 save_impl.py:71] Skipping full serialization of Keras layer <object_detection.core.freezable_batch_norm.FreezableBatchNorm object at 0x7f6010053e20>, because it is not built.\n",
      "WARNING:tensorflow:Skipping full serialization of Keras layer <keras.layers.core.Lambda object at 0x7f601002f910>, because it is not built.\n",
      "W1017 19:29:13.834777 140056395458368 save_impl.py:71] Skipping full serialization of Keras layer <keras.layers.core.Lambda object at 0x7f601002f910>, because it is not built.\n",
      "WARNING:tensorflow:Skipping full serialization of Keras layer <object_detection.core.freezable_batch_norm.FreezableBatchNorm object at 0x7f606c42ce80>, because it is not built.\n",
      "W1017 19:29:13.834848 140056395458368 save_impl.py:71] Skipping full serialization of Keras layer <object_detection.core.freezable_batch_norm.FreezableBatchNorm object at 0x7f606c42ce80>, because it is not built.\n",
      "WARNING:tensorflow:Skipping full serialization of Keras layer <keras.layers.core.Lambda object at 0x7f6010062520>, because it is not built.\n",
      "W1017 19:29:13.834918 140056395458368 save_impl.py:71] Skipping full serialization of Keras layer <keras.layers.core.Lambda object at 0x7f6010062520>, because it is not built.\n",
      "WARNING:tensorflow:Skipping full serialization of Keras layer <object_detection.core.freezable_batch_norm.FreezableBatchNorm object at 0x7f6010059850>, because it is not built.\n",
      "W1017 19:29:13.834987 140056395458368 save_impl.py:71] Skipping full serialization of Keras layer <object_detection.core.freezable_batch_norm.FreezableBatchNorm object at 0x7f6010059850>, because it is not built.\n",
      "WARNING:tensorflow:Skipping full serialization of Keras layer <keras.layers.core.Lambda object at 0x7f60100598e0>, because it is not built.\n",
      "W1017 19:29:13.835071 140056395458368 save_impl.py:71] Skipping full serialization of Keras layer <keras.layers.core.Lambda object at 0x7f60100598e0>, because it is not built.\n",
      "WARNING:tensorflow:Skipping full serialization of Keras layer <object_detection.core.freezable_batch_norm.FreezableBatchNorm object at 0x7f6010342af0>, because it is not built.\n",
      "W1017 19:29:13.835141 140056395458368 save_impl.py:71] Skipping full serialization of Keras layer <object_detection.core.freezable_batch_norm.FreezableBatchNorm object at 0x7f6010342af0>, because it is not built.\n",
      "WARNING:tensorflow:Skipping full serialization of Keras layer <keras.layers.core.Lambda object at 0x7f6010342100>, because it is not built.\n",
      "W1017 19:29:13.835210 140056395458368 save_impl.py:71] Skipping full serialization of Keras layer <keras.layers.core.Lambda object at 0x7f6010342100>, because it is not built.\n",
      "WARNING:tensorflow:Skipping full serialization of Keras layer <object_detection.core.freezable_batch_norm.FreezableBatchNorm object at 0x7f6010342370>, because it is not built.\n",
      "W1017 19:29:13.835278 140056395458368 save_impl.py:71] Skipping full serialization of Keras layer <object_detection.core.freezable_batch_norm.FreezableBatchNorm object at 0x7f6010342370>, because it is not built.\n",
      "WARNING:tensorflow:Skipping full serialization of Keras layer <keras.layers.core.Lambda object at 0x7f6010342520>, because it is not built.\n",
      "W1017 19:29:13.835347 140056395458368 save_impl.py:71] Skipping full serialization of Keras layer <keras.layers.core.Lambda object at 0x7f6010342520>, because it is not built.\n",
      "WARNING:tensorflow:Skipping full serialization of Keras layer <object_detection.core.freezable_batch_norm.FreezableBatchNorm object at 0x7f606c42ceb0>, because it is not built.\n",
      "W1017 19:29:13.835416 140056395458368 save_impl.py:71] Skipping full serialization of Keras layer <object_detection.core.freezable_batch_norm.FreezableBatchNorm object at 0x7f606c42ceb0>, because it is not built.\n",
      "WARNING:tensorflow:Skipping full serialization of Keras layer <keras.layers.core.Lambda object at 0x7f601033ea60>, because it is not built.\n",
      "W1017 19:29:13.835486 140056395458368 save_impl.py:71] Skipping full serialization of Keras layer <keras.layers.core.Lambda object at 0x7f601033ea60>, because it is not built.\n",
      "WARNING:tensorflow:Skipping full serialization of Keras layer <object_detection.core.freezable_batch_norm.FreezableBatchNorm object at 0x7f60100d4c70>, because it is not built.\n",
      "W1017 19:29:13.835555 140056395458368 save_impl.py:71] Skipping full serialization of Keras layer <object_detection.core.freezable_batch_norm.FreezableBatchNorm object at 0x7f60100d4c70>, because it is not built.\n",
      "WARNING:tensorflow:Skipping full serialization of Keras layer <keras.layers.core.Lambda object at 0x7f60100d45e0>, because it is not built.\n",
      "W1017 19:29:13.835624 140056395458368 save_impl.py:71] Skipping full serialization of Keras layer <keras.layers.core.Lambda object at 0x7f60100d45e0>, because it is not built.\n",
      "WARNING:tensorflow:Skipping full serialization of Keras layer <object_detection.core.freezable_batch_norm.FreezableBatchNorm object at 0x7f60100d4970>, because it is not built.\n",
      "W1017 19:29:13.835693 140056395458368 save_impl.py:71] Skipping full serialization of Keras layer <object_detection.core.freezable_batch_norm.FreezableBatchNorm object at 0x7f60100d4970>, because it is not built.\n",
      "WARNING:tensorflow:Skipping full serialization of Keras layer <keras.layers.core.Lambda object at 0x7f60100d48b0>, because it is not built.\n",
      "W1017 19:29:13.835763 140056395458368 save_impl.py:71] Skipping full serialization of Keras layer <keras.layers.core.Lambda object at 0x7f60100d48b0>, because it is not built.\n",
      "WARNING:tensorflow:Skipping full serialization of Keras layer <object_detection.core.freezable_batch_norm.FreezableBatchNorm object at 0x7f60100d4790>, because it is not built.\n",
      "W1017 19:29:13.835830 140056395458368 save_impl.py:71] Skipping full serialization of Keras layer <object_detection.core.freezable_batch_norm.FreezableBatchNorm object at 0x7f60100d4790>, because it is not built.\n",
      "WARNING:tensorflow:Skipping full serialization of Keras layer <keras.layers.core.Lambda object at 0x7f60100d4070>, because it is not built.\n",
      "W1017 19:29:13.835899 140056395458368 save_impl.py:71] Skipping full serialization of Keras layer <keras.layers.core.Lambda object at 0x7f60100d4070>, because it is not built.\n",
      "WARNING:tensorflow:Skipping full serialization of Keras layer <object_detection.core.freezable_batch_norm.FreezableBatchNorm object at 0x7f606c42cee0>, because it is not built.\n",
      "W1017 19:29:13.835972 140056395458368 save_impl.py:71] Skipping full serialization of Keras layer <object_detection.core.freezable_batch_norm.FreezableBatchNorm object at 0x7f606c42cee0>, because it is not built.\n",
      "WARNING:tensorflow:Skipping full serialization of Keras layer <keras.layers.core.Lambda object at 0x7f6010417730>, because it is not built.\n",
      "W1017 19:29:13.836041 140056395458368 save_impl.py:71] Skipping full serialization of Keras layer <keras.layers.core.Lambda object at 0x7f6010417730>, because it is not built.\n",
      "WARNING:tensorflow:Skipping full serialization of Keras layer <object_detection.core.freezable_batch_norm.FreezableBatchNorm object at 0x7f6010362340>, because it is not built.\n",
      "W1017 19:29:13.836110 140056395458368 save_impl.py:71] Skipping full serialization of Keras layer <object_detection.core.freezable_batch_norm.FreezableBatchNorm object at 0x7f6010362340>, because it is not built.\n",
      "WARNING:tensorflow:Skipping full serialization of Keras layer <keras.layers.core.Lambda object at 0x7f6010362b80>, because it is not built.\n",
      "W1017 19:29:13.836179 140056395458368 save_impl.py:71] Skipping full serialization of Keras layer <keras.layers.core.Lambda object at 0x7f6010362b80>, because it is not built.\n",
      "WARNING:tensorflow:Skipping full serialization of Keras layer <object_detection.core.freezable_batch_norm.FreezableBatchNorm object at 0x7f6010232850>, because it is not built.\n",
      "W1017 19:29:13.836247 140056395458368 save_impl.py:71] Skipping full serialization of Keras layer <object_detection.core.freezable_batch_norm.FreezableBatchNorm object at 0x7f6010232850>, because it is not built.\n",
      "WARNING:tensorflow:Skipping full serialization of Keras layer <keras.layers.core.Lambda object at 0x7f6010232490>, because it is not built.\n",
      "W1017 19:29:13.836316 140056395458368 save_impl.py:71] Skipping full serialization of Keras layer <keras.layers.core.Lambda object at 0x7f6010232490>, because it is not built.\n",
      "WARNING:tensorflow:Skipping full serialization of Keras layer <object_detection.core.freezable_batch_norm.FreezableBatchNorm object at 0x7f6010232550>, because it is not built.\n",
      "W1017 19:29:13.836385 140056395458368 save_impl.py:71] Skipping full serialization of Keras layer <object_detection.core.freezable_batch_norm.FreezableBatchNorm object at 0x7f6010232550>, because it is not built.\n",
      "WARNING:tensorflow:Skipping full serialization of Keras layer <keras.layers.core.Lambda object at 0x7f60102321f0>, because it is not built.\n",
      "W1017 19:29:13.836459 140056395458368 save_impl.py:71] Skipping full serialization of Keras layer <keras.layers.core.Lambda object at 0x7f60102321f0>, because it is not built.\n",
      "WARNING:tensorflow:Skipping full serialization of Keras layer <object_detection.core.freezable_batch_norm.FreezableBatchNorm object at 0x7f601031da90>, because it is not built.\n",
      "W1017 19:29:13.836530 140056395458368 save_impl.py:71] Skipping full serialization of Keras layer <object_detection.core.freezable_batch_norm.FreezableBatchNorm object at 0x7f601031da90>, because it is not built.\n",
      "WARNING:tensorflow:Skipping full serialization of Keras layer <keras.layers.core.Lambda object at 0x7f601015d9a0>, because it is not built.\n",
      "W1017 19:29:13.836599 140056395458368 save_impl.py:71] Skipping full serialization of Keras layer <keras.layers.core.Lambda object at 0x7f601015d9a0>, because it is not built.\n",
      "WARNING:tensorflow:Skipping full serialization of Keras layer <object_detection.core.freezable_batch_norm.FreezableBatchNorm object at 0x7f60102a8190>, because it is not built.\n",
      "W1017 19:29:13.836666 140056395458368 save_impl.py:71] Skipping full serialization of Keras layer <object_detection.core.freezable_batch_norm.FreezableBatchNorm object at 0x7f60102a8190>, because it is not built.\n",
      "WARNING:tensorflow:Skipping full serialization of Keras layer <keras.layers.core.Lambda object at 0x7f60102a8f40>, because it is not built.\n",
      "W1017 19:29:13.836736 140056395458368 save_impl.py:71] Skipping full serialization of Keras layer <keras.layers.core.Lambda object at 0x7f60102a8f40>, because it is not built.\n",
      "WARNING:tensorflow:Skipping full serialization of Keras layer <object_detection.core.freezable_batch_norm.FreezableBatchNorm object at 0x7f6010298730>, because it is not built.\n",
      "W1017 19:29:13.836811 140056395458368 save_impl.py:71] Skipping full serialization of Keras layer <object_detection.core.freezable_batch_norm.FreezableBatchNorm object at 0x7f6010298730>, because it is not built.\n",
      "WARNING:tensorflow:Skipping full serialization of Keras layer <keras.layers.core.Lambda object at 0x7f6010298160>, because it is not built.\n",
      "W1017 19:29:13.836879 140056395458368 save_impl.py:71] Skipping full serialization of Keras layer <keras.layers.core.Lambda object at 0x7f6010298160>, because it is not built.\n",
      "WARNING:tensorflow:Skipping full serialization of Keras layer <object_detection.core.freezable_batch_norm.FreezableBatchNorm object at 0x7f606006dca0>, because it is not built.\n",
      "W1017 19:29:13.836948 140056395458368 save_impl.py:71] Skipping full serialization of Keras layer <object_detection.core.freezable_batch_norm.FreezableBatchNorm object at 0x7f606006dca0>, because it is not built.\n",
      "WARNING:tensorflow:Skipping full serialization of Keras layer <keras.layers.core.Lambda object at 0x7f606006d850>, because it is not built.\n",
      "W1017 19:29:13.837018 140056395458368 save_impl.py:71] Skipping full serialization of Keras layer <keras.layers.core.Lambda object at 0x7f606006d850>, because it is not built.\n"
     ]
    },
    {
     "name": "stdout",
     "output_type": "stream",
     "text": [
      "2021-10-17 19:29:21.666369: W tensorflow/python/util/util.cc:348] Sets are not currently considered sequences, but this may change in the future, so consider avoiding using them.\n",
      "2021-10-17 19:29:23.040178: I tensorflow/stream_executor/cuda/cuda_gpu_executor.cc:937] successful NUMA node read from SysFS had negative value (-1), but there must be at least one NUMA node, so returning NUMA node zero\n",
      "2021-10-17 19:29:23.040450: I tensorflow/stream_executor/cuda/cuda_gpu_executor.cc:937] successful NUMA node read from SysFS had negative value (-1), but there must be at least one NUMA node, so returning NUMA node zero\n",
      "2021-10-17 19:29:23.040621: I tensorflow/stream_executor/cuda/cuda_gpu_executor.cc:937] successful NUMA node read from SysFS had negative value (-1), but there must be at least one NUMA node, so returning NUMA node zero\n",
      "2021-10-17 19:29:23.040835: I tensorflow/stream_executor/cuda/cuda_gpu_executor.cc:937] successful NUMA node read from SysFS had negative value (-1), but there must be at least one NUMA node, so returning NUMA node zero\n",
      "2021-10-17 19:29:23.041010: I tensorflow/stream_executor/cuda/cuda_gpu_executor.cc:937] successful NUMA node read from SysFS had negative value (-1), but there must be at least one NUMA node, so returning NUMA node zero\n",
      "2021-10-17 19:29:23.041155: I tensorflow/core/common_runtime/gpu/gpu_device.cc:1510] Created device /job:localhost/replica:0/task:0/device:GPU:0 with 104 MB memory:  -> device: 0, name: NVIDIA GeForce GTX 1650 Ti, pci bus id: 0000:01:00.0, compute capability: 7.5\n",
      "W1017 19:29:37.205816 140056395458368 save.py:249] Found untraced functions such as WeightSharedConvolutionalBoxPredictor_layer_call_fn, WeightSharedConvolutionalBoxPredictor_layer_call_and_return_conditional_losses, WeightSharedConvolutionalBoxHead_layer_call_fn, WeightSharedConvolutionalBoxHead_layer_call_and_return_conditional_losses, WeightSharedConvolutionalBoxPredictor_layer_call_fn while saving (showing 5 of 260). These functions will not be directly callable after loading.\n",
      "INFO:tensorflow:Assets written to: Tensorflow/workspace/models/my_ssd_mobnet/tfliteexport/saved_model/assets\n",
      "I1017 19:29:40.568561 140056395458368 builder_impl.py:780] Assets written to: Tensorflow/workspace/models/my_ssd_mobnet/tfliteexport/saved_model/assets\n"
     ]
    }
   ],
   "source": [
    "!{command}"
   ]
  },
  {
   "cell_type": "code",
   "execution_count": 32,
   "metadata": {
    "id": "iJfYMbN6pfDL"
   },
   "outputs": [],
   "source": [
    "FROZEN_TFLITE_PATH = os.path.join(paths['TFLITE_PATH'], 'saved_model')\n",
    "TFLITE_MODEL = os.path.join(paths['TFLITE_PATH'], 'saved_model', 'detect.tflite')"
   ]
  },
  {
   "cell_type": "code",
   "execution_count": 33,
   "metadata": {},
   "outputs": [],
   "source": [
    "command = \"tflite_convert \\\n",
    "--saved_model_dir={} \\\n",
    "--output_file={} \\\n",
    "--input_shapes=1,300,300,3 \\\n",
    "--input_arrays=normalized_input_image_tensor \\\n",
    "--output_arrays='TFLite_Detection_PostProcess','TFLite_Detection_PostProcess:1','TFLite_Detection_PostProcess:2','TFLite_Detection_PostProcess:3' \\\n",
    "--inference_type=FLOAT \\\n",
    "--allow_custom_ops\".format(FROZEN_TFLITE_PATH, TFLITE_MODEL, )"
   ]
  },
  {
   "cell_type": "code",
   "execution_count": 34,
   "metadata": {
    "colab": {
     "base_uri": "https://localhost:8080/"
    },
    "id": "E8GwUeoFpfDL",
    "outputId": "fac43ea4-cc85-471b-a362-e994b06fd583"
   },
   "outputs": [
    {
     "name": "stdout",
     "output_type": "stream",
     "text": [
      "tflite_convert --saved_model_dir=Tensorflow/workspace/models/my_ssd_mobnet/tfliteexport/saved_model --output_file=Tensorflow/workspace/models/my_ssd_mobnet/tfliteexport/saved_model/detect.tflite --input_shapes=1,300,300,3 --input_arrays=normalized_input_image_tensor --output_arrays='TFLite_Detection_PostProcess','TFLite_Detection_PostProcess:1','TFLite_Detection_PostProcess:2','TFLite_Detection_PostProcess:3' --inference_type=FLOAT --allow_custom_ops\n"
     ]
    }
   ],
   "source": [
    "print(command)"
   ]
  },
  {
   "cell_type": "code",
   "execution_count": 35,
   "metadata": {
    "colab": {
     "base_uri": "https://localhost:8080/"
    },
    "id": "Nbd7gqHMpfDL",
    "outputId": "7c8fe6d5-2415-4641-8548-39d425c202f7"
   },
   "outputs": [
    {
     "name": "stdout",
     "output_type": "stream",
     "text": [
      "2021-10-17 19:29:49.270230: I tensorflow/stream_executor/cuda/cuda_gpu_executor.cc:937] successful NUMA node read from SysFS had negative value (-1), but there must be at least one NUMA node, so returning NUMA node zero\n",
      "2021-10-17 19:29:49.285419: I tensorflow/stream_executor/cuda/cuda_gpu_executor.cc:937] successful NUMA node read from SysFS had negative value (-1), but there must be at least one NUMA node, so returning NUMA node zero\n",
      "2021-10-17 19:29:49.285849: I tensorflow/stream_executor/cuda/cuda_gpu_executor.cc:937] successful NUMA node read from SysFS had negative value (-1), but there must be at least one NUMA node, so returning NUMA node zero\n",
      "2021-10-17 19:29:50.029620: I tensorflow/core/platform/cpu_feature_guard.cc:142] This TensorFlow binary is optimized with oneAPI Deep Neural Network Library (oneDNN) to use the following CPU instructions in performance-critical operations:  AVX2 FMA\n",
      "To enable them in other operations, rebuild TensorFlow with the appropriate compiler flags.\n",
      "2021-10-17 19:29:50.032292: I tensorflow/stream_executor/cuda/cuda_gpu_executor.cc:937] successful NUMA node read from SysFS had negative value (-1), but there must be at least one NUMA node, so returning NUMA node zero\n",
      "2021-10-17 19:29:50.032918: I tensorflow/stream_executor/cuda/cuda_gpu_executor.cc:937] successful NUMA node read from SysFS had negative value (-1), but there must be at least one NUMA node, so returning NUMA node zero\n",
      "2021-10-17 19:29:50.033234: I tensorflow/stream_executor/cuda/cuda_gpu_executor.cc:937] successful NUMA node read from SysFS had negative value (-1), but there must be at least one NUMA node, so returning NUMA node zero\n",
      "2021-10-17 19:29:50.731475: I tensorflow/stream_executor/cuda/cuda_gpu_executor.cc:937] successful NUMA node read from SysFS had negative value (-1), but there must be at least one NUMA node, so returning NUMA node zero\n",
      "2021-10-17 19:29:50.732093: I tensorflow/stream_executor/cuda/cuda_gpu_executor.cc:937] successful NUMA node read from SysFS had negative value (-1), but there must be at least one NUMA node, so returning NUMA node zero\n",
      "2021-10-17 19:29:50.732558: I tensorflow/stream_executor/cuda/cuda_gpu_executor.cc:937] successful NUMA node read from SysFS had negative value (-1), but there must be at least one NUMA node, so returning NUMA node zero\n",
      "2021-10-17 19:29:50.732911: I tensorflow/core/common_runtime/gpu/gpu_device.cc:1510] Created device /job:localhost/replica:0/task:0/device:GPU:0 with 92 MB memory:  -> device: 0, name: NVIDIA GeForce GTX 1650 Ti, pci bus id: 0000:01:00.0, compute capability: 7.5\n",
      "2021-10-17 19:30:01.596357: W tensorflow/compiler/mlir/lite/python/tf_tfl_flatbuffer_helpers.cc:351] Ignored output_format.\n",
      "2021-10-17 19:30:01.596478: W tensorflow/compiler/mlir/lite/python/tf_tfl_flatbuffer_helpers.cc:354] Ignored drop_control_dependency.\n",
      "2021-10-17 19:30:01.596492: W tensorflow/compiler/mlir/lite/python/tf_tfl_flatbuffer_helpers.cc:360] Ignored change_concat_input_ranges.\n",
      "2021-10-17 19:30:01.670068: I tensorflow/cc/saved_model/reader.cc:38] Reading SavedModel from: Tensorflow/workspace/models/my_ssd_mobnet/tfliteexport/saved_model\n",
      "2021-10-17 19:30:01.839307: I tensorflow/cc/saved_model/reader.cc:90] Reading meta graph with tags { serve }\n",
      "2021-10-17 19:30:01.839410: I tensorflow/cc/saved_model/reader.cc:132] Reading SavedModel debug info (if present) from: Tensorflow/workspace/models/my_ssd_mobnet/tfliteexport/saved_model\n",
      "2021-10-17 19:30:02.374664: I tensorflow/cc/saved_model/loader.cc:211] Restoring SavedModel bundle.\n",
      "2021-10-17 19:30:03.575315: I tensorflow/cc/saved_model/loader.cc:195] Running initialization op on SavedModel bundle at path: Tensorflow/workspace/models/my_ssd_mobnet/tfliteexport/saved_model\n",
      "2021-10-17 19:30:03.924905: I tensorflow/cc/saved_model/loader.cc:283] SavedModel load for tags { serve }; Status: success: OK. Took 2254875 microseconds.\n",
      "2021-10-17 19:30:06.243772: I tensorflow/compiler/mlir/tensorflow/utils/dump_mlir_util.cc:210] disabling MLIR crash reproducer, set env var `MLIR_CRASH_REPRODUCER_DIRECTORY` to enable.\n",
      "2021-10-17 19:30:09.856801: I tensorflow/compiler/mlir/lite/flatbuffer_export.cc:1899] Estimated count of arithmetic ops: 1.710 G  ops, equivalently 0.855 G  MACs\n"
     ]
    }
   ],
   "source": [
    "!{command}"
   ]
  },
  {
   "cell_type": "markdown",
   "metadata": {
    "id": "5NQqZRdA21Uc"
   },
   "source": [
    "# 13. Zip and Export Models "
   ]
  },
  {
   "cell_type": "code",
   "execution_count": null,
   "metadata": {
    "id": "tTVTGCQp2ZJJ"
   },
   "outputs": [],
   "source": [
    "!tar -czf models.tar.gz {paths['CHECKPOINT_PATH']}"
   ]
  },
  {
   "cell_type": "code",
   "execution_count": null,
   "metadata": {
    "colab": {
     "base_uri": "https://localhost:8080/"
    },
    "id": "whShhB0x3PYJ",
    "outputId": "b773201d-35c9-46a8-b893-4a76bd4d5d97"
   },
   "outputs": [],
   "source": [
    "from google.colab import drive\n",
    "drive.mount('/content/drive')"
   ]
  }
 ],
 "metadata": {
  "accelerator": "GPU",
  "colab": {
   "name": "3. Training and Detection.ipynb",
   "provenance": []
  },
  "kernelspec": {
   "display_name": "tfod",
   "language": "python",
   "name": "tfod"
  },
  "language_info": {
   "codemirror_mode": {
    "name": "ipython",
    "version": 3
   },
   "file_extension": ".py",
   "mimetype": "text/x-python",
   "name": "python",
   "nbconvert_exporter": "python",
   "pygments_lexer": "ipython3",
   "version": "3.8.8"
  }
 },
 "nbformat": 4,
 "nbformat_minor": 1
}
